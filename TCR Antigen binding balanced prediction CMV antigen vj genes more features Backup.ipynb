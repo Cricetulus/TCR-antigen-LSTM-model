{
 "cells": [
  {
   "cell_type": "markdown",
   "metadata": {},
   "source": [
    "# Load functions and packages\n",
    "### 3 blosum related functions copied from https://www.biorxiv.org/content/10.1101/433706v1.full"
   ]
  },
  {
   "cell_type": "code",
   "execution_count": 1,
   "metadata": {},
   "outputs": [
    {
     "name": "stdout",
     "output_type": "stream",
     "text": [
      "2.2.0-dev20200401\n"
     ]
    },
    {
     "name": "stderr",
     "output_type": "stream",
     "text": [
      "C:\\Users\\Anjin\\Anaconda3\\lib\\site-packages\\tensorboard\\compat\\tensorflow_stub\\dtypes.py:541: FutureWarning: Passing (type, 1) or '1type' as a synonym of type is deprecated; in a future version of numpy, it will be understood as (type, (1,)) / '(1,)type'.\n",
      "  _np_qint8 = np.dtype([(\"qint8\", np.int8, 1)])\n",
      "C:\\Users\\Anjin\\Anaconda3\\lib\\site-packages\\tensorboard\\compat\\tensorflow_stub\\dtypes.py:542: FutureWarning: Passing (type, 1) or '1type' as a synonym of type is deprecated; in a future version of numpy, it will be understood as (type, (1,)) / '(1,)type'.\n",
      "  _np_quint8 = np.dtype([(\"quint8\", np.uint8, 1)])\n",
      "C:\\Users\\Anjin\\Anaconda3\\lib\\site-packages\\tensorboard\\compat\\tensorflow_stub\\dtypes.py:543: FutureWarning: Passing (type, 1) or '1type' as a synonym of type is deprecated; in a future version of numpy, it will be understood as (type, (1,)) / '(1,)type'.\n",
      "  _np_qint16 = np.dtype([(\"qint16\", np.int16, 1)])\n",
      "C:\\Users\\Anjin\\Anaconda3\\lib\\site-packages\\tensorboard\\compat\\tensorflow_stub\\dtypes.py:544: FutureWarning: Passing (type, 1) or '1type' as a synonym of type is deprecated; in a future version of numpy, it will be understood as (type, (1,)) / '(1,)type'.\n",
      "  _np_quint16 = np.dtype([(\"quint16\", np.uint16, 1)])\n",
      "C:\\Users\\Anjin\\Anaconda3\\lib\\site-packages\\tensorboard\\compat\\tensorflow_stub\\dtypes.py:545: FutureWarning: Passing (type, 1) or '1type' as a synonym of type is deprecated; in a future version of numpy, it will be understood as (type, (1,)) / '(1,)type'.\n",
      "  _np_qint32 = np.dtype([(\"qint32\", np.int32, 1)])\n",
      "C:\\Users\\Anjin\\Anaconda3\\lib\\site-packages\\tensorboard\\compat\\tensorflow_stub\\dtypes.py:550: FutureWarning: Passing (type, 1) or '1type' as a synonym of type is deprecated; in a future version of numpy, it will be understood as (type, (1,)) / '(1,)type'.\n",
      "  np_resource = np.dtype([(\"resource\", np.ubyte, 1)])\n"
     ]
    }
   ],
   "source": [
    "from __future__ import print_function\n",
    "import sys\n",
    "import os\n",
    "import time\n",
    "\n",
    "import math\n",
    "import numpy as np\n",
    "import tensorflow as tf\n",
    "\n",
    "print(tf.__version__)"
   ]
  },
  {
   "cell_type": "code",
   "execution_count": 2,
   "metadata": {},
   "outputs": [],
   "source": [
    "\n",
    "\n",
    "\n",
    "def read_blosum_MN(filename):\n",
    "    '''\n",
    "    read in BLOSUM matrix\n",
    "    parameters:\n",
    "        - filename : file containing BLOSUM matrix\n",
    "    returns:\n",
    "        - blosum : dictionnary AA -> blosum encoding (as list)\n",
    "    '''\n",
    "\n",
    "    # read BLOSUM matrix:\n",
    "    blosumfile = open(filename, \"r\")\n",
    "    blosum = {}\n",
    "    B_idx = 99\n",
    "    Z_idx = 99\n",
    "    star_idx = 99\n",
    "\n",
    "    for l in blosumfile:\n",
    "        l = l.strip()\n",
    "\n",
    "        if l[0] != '#':\n",
    "            l= list(filter(None,l.strip().split(\" \")))\n",
    "\n",
    "            if (l[0] == 'A') and (B_idx==99):\n",
    "                B_idx = l.index('B')\n",
    "                Z_idx = l.index('Z')\n",
    "                star_idx = l.index('*')\n",
    "            else:\n",
    "                aa = str(l[0])\n",
    "                if (aa != 'B') &  (aa != 'Z') & (aa != '*'):\n",
    "                    tmp = l[1:len(l)]\n",
    "                    # tmp = [float(i) for i in tmp]\n",
    "                    # get rid of BJZ*:\n",
    "                    tmp2 = []\n",
    "                    for i in range(0, len(tmp)):\n",
    "                        if (i != B_idx) &  (i != Z_idx) & (i != star_idx):\n",
    "                            tmp2.append(float(tmp[i]))\n",
    "\n",
    "                    #save in BLOSUM matrix\n",
    "                    #tmp2 = [i * 0.2 for i in tmp2] #scale (divide by 5)\n",
    "                    blosum[aa]=tmp2\n",
    "    blosumfile.close()\n",
    "    blosum[\"B\"]=np.ones(21)*0.1\n",
    "    blosum[\"E\"]=np.ones(21)*(-0.1)\n",
    "    return(blosum)\n",
    "\n",
    "\n",
    "def enc_list_bl(aa_seqs, blosum):\n",
    "    '''\n",
    "    blosum encoding of a list of amino acid sequences with padding\n",
    "    parameters:\n",
    "        - aa_seqs : list with AA sequences\n",
    "        - blosum : dictionnary: key= AA, value= blosum encoding\n",
    "    returns:\n",
    "        - enc_aa_seq : list of np.ndarrays containing padded, encoded amino acid sequences\n",
    "    '''\n",
    "    \n",
    "\n",
    "    # encode sequences:\n",
    "    sequences=[]\n",
    "    for seq in aa_seqs:\n",
    "        e_seq=np.zeros((len(seq),len(blosum[\"A\"])))\n",
    "        count=0\n",
    "        for aa in seq:\n",
    "            if aa in blosum:\n",
    "                e_seq[count]=blosum[aa]\n",
    "                count+=1\n",
    "            else:\n",
    "                sys.stderr.write(\"Unknown amino acid in peptides: \"+ aa +\", encoding aborted!\\n\")\n",
    "                sys.exit(2)\n",
    "        sequences.append(e_seq)\n",
    "\n",
    "    # pad sequences:\n",
    "    max_seq_len = 11#max([len(x) for x in aa_seqs])\n",
    "    n_seqs = len(aa_seqs)\n",
    "    n_features = sequences[0].shape[1]\n",
    "\n",
    "    enc_aa_seq = np.zeros((n_seqs, max_seq_len, n_features))\n",
    "    for i in range(0,n_seqs):\n",
    "        enc_aa_seq[i, :sequences[i].shape[0], :n_features] = sequences[i]\n",
    "\n",
    "    return enc_aa_seq\n",
    "\n",
    "def enc_list_bl_start_stop(aa_seqs, blosum):\n",
    "    '''\n",
    "    blosum encoding of a list of amino acid sequences with padding\n",
    "    parameters:\n",
    "        - aa_seqs : list with AA sequences\n",
    "        - blosum : dictionnary: key= AA, value= blosum encoding\n",
    "    returns:\n",
    "        - enc_aa_seq : list of np.ndarrays containing padded, encoded amino acid sequences\n",
    "    '''\n",
    "\n",
    "    # encode sequences:\n",
    "    sequences=[]\n",
    "    for seq in aa_seqs:\n",
    "        # replace O (pyrrolysine) with lysine (K):\n",
    "        #seq.replace(\"0\", \"K\")\n",
    "        e_seq=np.zeros((len(seq)+2,len(blosum[\"A\"])))\n",
    "        # start encoding:\n",
    "        e_seq[0]=np.ones(len(blosum[\"A\"]))*0.1\n",
    "        # sequence encoding:\n",
    "        count=1\n",
    "        for aa in seq:\n",
    "            if aa == \"O\":\n",
    "                aa =\"K\"\n",
    "            if aa in blosum:\n",
    "                e_seq[count]=blosum[aa]\n",
    "                count+=1\n",
    "            else:\n",
    "                sys.stderr.write(\"Unknown amino acid: \"+ aa +\", encoding aborted!\\n\")\n",
    "                sys.exit(2)\n",
    "        # end encoding:\n",
    "        e_seq[count]=np.ones(len(blosum[\"A\"]))*(-0.1)\n",
    "        # save:\n",
    "        sequences.append(e_seq)\n",
    "\n",
    "    # pad sequences:\n",
    "    max_seq_len =28# max([len(x) for x in aa_seqs]) +2\n",
    "    n_seqs = len(aa_seqs)\n",
    "    n_features = sequences[0].shape[1]\n",
    "\n",
    "    enc_aa_seq = np.zeros((n_seqs, max_seq_len, n_features))\n",
    "    for i in range(0,n_seqs):\n",
    "        enc_aa_seq[i, :sequences[i].shape[0], :n_features] = sequences[i]\n",
    "\n",
    "    return enc_aa_seq\n",
    "\n"
   ]
  },
  {
   "cell_type": "code",
   "execution_count": 3,
   "metadata": {},
   "outputs": [
    {
     "data": {
      "text/plain": [
       "'C:\\\\Users\\\\Anjin'"
      ]
     },
     "execution_count": 3,
     "metadata": {},
     "output_type": "execute_result"
    }
   ],
   "source": [
    "os.getcwd()"
   ]
  },
  {
   "cell_type": "code",
   "execution_count": 4,
   "metadata": {},
   "outputs": [],
   "source": [
    "##Read blosum file and generate blosum dictionary\n",
    "blosumfile='C:/Users/Anjin/Downloads/blosum.txt'\n",
    "blosum = read_blosum_MN(blosumfile)\n"
   ]
  },
  {
   "cell_type": "markdown",
   "metadata": {},
   "source": [
    "# Feature engineering \n",
    "### to recover the chemical and physical properties of amino acid sequences"
   ]
  },
  {
   "cell_type": "code",
   "execution_count": 5,
   "metadata": {},
   "outputs": [],
   "source": [
    "##To recover the electronic properties of the amino acid residues, I groups the aa with similar electronic properties together\n",
    "'''\n",
    "This function returns the amino acid abbreviation letters to the corresponding hydrophobicity property group: \n",
    "hydrophobic (1), amphipathic (2), and hydrophilic (3)\n",
    "\n",
    "'''\n",
    "\n",
    "\n",
    "def hydrophobicity_aa(argument):\n",
    "\n",
    "    switcher = { \n",
    "        \"A\": 1,\n",
    "        \"V\": 1,\n",
    "        \"L\": 1,\n",
    "        \"F\": 1,\n",
    "        \"I\": 1,\n",
    "        \"P\": 1,\n",
    "        \"G\": 1,\n",
    "        \"W\": 2,\n",
    "        \"Y\": 2,\n",
    "        \"M\": 2,\n",
    "        \"S\": 3,\n",
    "        \"T\": 3,\n",
    "        \"D\": 3,\n",
    "        \"E\": 3,\n",
    "        \"N\": 3,\n",
    "        \"Q\": 3,\n",
    "        \"R\": 3,\n",
    "        \"H\": 3,\n",
    "        \"K\": 3,        \n",
    "        \"C\": 3,\n",
    "        \"U\": 3\n",
    "      \n",
    "    }\n",
    "    return switcher.get(argument, \"Invalid\")\n",
    "\n",
    "\n",
    "\n",
    "\n",
    "\n",
    "\n",
    "'''\n",
    "This function returns the amino acid abbreviation letters to the corresponding charge property group: \n",
    "negatively charged (1), neutral (2), and positively (3)\n",
    "\n",
    "\n",
    "'''\n",
    "\n",
    "def charge_aa(argument):\n",
    "\n",
    "    switcher = {\n",
    "        \"D\": 1,\n",
    "        \"E\": 1,\n",
    "        \"A\": 2,\n",
    "        \"V\": 2,\n",
    "        \"L\": 2,\n",
    "        \"F\": 2,\n",
    "        \"I\": 2,\n",
    "        \"P\": 2,\n",
    "        \"G\": 2,\n",
    "        \"W\": 2,\n",
    "        \"Y\": 2,\n",
    "        \"M\": 2,\n",
    "        \"S\": 2,\n",
    "        \"T\": 2,\n",
    "        \"N\": 2,\n",
    "        \"Q\": 2,\n",
    "        \"C\": 2,\n",
    "        \"U\": 2,\n",
    "        \"R\": 3,\n",
    "        \"H\": 3,\n",
    "        \"K\": 3        \n",
    "\n",
    "    }\n",
    "    return switcher.get(argument, \"Invalid\")\n",
    "\n",
    "\n",
    "\n",
    "\n",
    "\n",
    "'''\n",
    "This function returns the amino acid abbreviation letters to the corresponding helicity property group: \n",
    "normal (1), helix breaker (2)\n",
    "\n",
    "\n",
    "'''\n",
    "\n",
    "def helicity_aa(argument):\n",
    "\n",
    "    switcher = {\n",
    "        \"D\": 1,\n",
    "        \"E\": 1,\n",
    "        \"A\": 1,\n",
    "        \"V\": 1,\n",
    "        \"L\": 1,\n",
    "        \"F\": 1,\n",
    "        \"I\": 1,\n",
    "        \"W\": 1,\n",
    "        \"Y\": 1,\n",
    "        \"M\": 1,\n",
    "        \"S\": 1,\n",
    "        \"T\": 1,\n",
    "        \"N\": 1,\n",
    "        \"Q\": 1,\n",
    "        \"C\": 1,\n",
    "        \"U\": 1,\n",
    "        \"R\": 1,\n",
    "        \"H\": 1,\n",
    "        \"K\": 1, \n",
    "        \"P\": 2,\n",
    "        \"G\": 2\n",
    "\n",
    "    }\n",
    "    return switcher.get(argument, \"Invalid\")\n"
   ]
  },
  {
   "cell_type": "code",
   "execution_count": 6,
   "metadata": {},
   "outputs": [],
   "source": [
    "## to recover the physical properties/residue size, I translate the aa into their molecular mass.\n",
    "'''\n",
    "This function returns the amino acid abbreviation letters to the corresponding molecular mass, \n",
    "normalized by the largest amino acid molecular mass\n",
    "'''\n",
    "def size_aa(argument):\n",
    "    switcher = {\n",
    "        \"R\": 174.20/204.23,\n",
    "        \"H\": 155.16/204.23,\n",
    "        \"K\": 146.19/204.23,\n",
    "        \"D\": 133.11/204.23,\n",
    "        \"E\": 147.13/204.23,\n",
    "        \"S\": 105.09/204.23,\n",
    "        \"T\": 119.12/204.23,\n",
    "        \"N\": 132.12/204.23,\n",
    "        \"Q\": 146.15/204.23,\n",
    "        \"C\": 121.16/204.23,\n",
    "        \"U\": 139.11/204.23,\n",
    "        \"G\": 75.07/204.23,\n",
    "        \"P\": 115.13/204.23,\n",
    "        \"A\": 89.10/204.23,\n",
    "        \"I\": 131.18/204.23,\n",
    "        \"L\": 131.18/204.23,\n",
    "        \"M\": 149.21/204.23,\n",
    "        \"F\": 165.19/204.23,\n",
    "        \"W\": 204.23/204.23,\n",
    "        \"Y\": 181.19/204.23,\n",
    "        \"V\": 117.15/204.23,\n",
    "    }\n",
    "    return switcher.get(argument, \"Invalid\")"
   ]
  },
  {
   "cell_type": "markdown",
   "metadata": {},
   "source": [
    "# Load data"
   ]
  },
  {
   "cell_type": "code",
   "execution_count": 7,
   "metadata": {},
   "outputs": [],
   "source": [
    "import pandas as pd\n",
    "import numpy as np\n",
    "df=pd.read_csv('C:/Users/Anjin/Downloads/vdj_v1_hs_aggregated_donor1_binarized_matrix.csv')\n",
    "##read the TCR & antigen binding data from the first donor|\n"
   ]
  },
  {
   "cell_type": "code",
   "execution_count": 8,
   "metadata": {},
   "outputs": [
    {
     "data": {
      "text/html": [
       "<div>\n",
       "<style scoped>\n",
       "    .dataframe tbody tr th:only-of-type {\n",
       "        vertical-align: middle;\n",
       "    }\n",
       "\n",
       "    .dataframe tbody tr th {\n",
       "        vertical-align: top;\n",
       "    }\n",
       "\n",
       "    .dataframe thead th {\n",
       "        text-align: right;\n",
       "    }\n",
       "</style>\n",
       "<table border=\"1\" class=\"dataframe\">\n",
       "  <thead>\n",
       "    <tr style=\"text-align: right;\">\n",
       "      <th></th>\n",
       "      <th>barcode</th>\n",
       "      <th>donor</th>\n",
       "      <th>cell_clono_cdr3_aa</th>\n",
       "      <th>cell_clono_cdr3_nt</th>\n",
       "      <th>CD3</th>\n",
       "      <th>CD19</th>\n",
       "      <th>CD45RA</th>\n",
       "      <th>CD4</th>\n",
       "      <th>CD8a</th>\n",
       "      <th>CD14</th>\n",
       "      <th>...</th>\n",
       "      <th>B0702_RPHERNGFTVL_pp65_CMV_binder</th>\n",
       "      <th>B0801_RAKFKQLL_BZLF1_EBV_binder</th>\n",
       "      <th>B0801_ELRRKMMYM_IE-1_CMV_binder</th>\n",
       "      <th>B0801_FLRGRAYGL_EBNA-3A_EBV_binder</th>\n",
       "      <th>A0101_SLEGGGLGY_NC_binder</th>\n",
       "      <th>A0101_STEGGGLAY_NC_binder</th>\n",
       "      <th>A0201_ALIAPVHAV_NC_binder</th>\n",
       "      <th>A2402_AYSSAGASI_NC_binder</th>\n",
       "      <th>B0702_GPAESAAGL_NC_binder</th>\n",
       "      <th>NR(B0801)_AAKGRGAAL_NC_binder</th>\n",
       "    </tr>\n",
       "  </thead>\n",
       "  <tbody>\n",
       "    <tr>\n",
       "      <th>0</th>\n",
       "      <td>AAACCTGAGACAAAGG-4</td>\n",
       "      <td>donor1</td>\n",
       "      <td>TRA:CAASVSIWTGTASKLTF;TRA:CAAWDMEYGNKLVF;TRB:C...</td>\n",
       "      <td>TRA:TGTGCAGCAAGCGTTAGTATTTGGACCGGCACTGCCAGTAAA...</td>\n",
       "      <td>2125.0</td>\n",
       "      <td>0.0</td>\n",
       "      <td>912.0</td>\n",
       "      <td>1.0</td>\n",
       "      <td>2223.0</td>\n",
       "      <td>4.0</td>\n",
       "      <td>...</td>\n",
       "      <td>False</td>\n",
       "      <td>False</td>\n",
       "      <td>False</td>\n",
       "      <td>False</td>\n",
       "      <td>False</td>\n",
       "      <td>False</td>\n",
       "      <td>False</td>\n",
       "      <td>False</td>\n",
       "      <td>False</td>\n",
       "      <td>False</td>\n",
       "    </tr>\n",
       "    <tr>\n",
       "      <th>1</th>\n",
       "      <td>AAACCTGAGACTGTAA-34</td>\n",
       "      <td>donor1</td>\n",
       "      <td>TRB:CASDTPVGQFF</td>\n",
       "      <td>TRB:TGTGCCAGCGATACCCCGGTTGGGCAGTTCTTC</td>\n",
       "      <td>1023.0</td>\n",
       "      <td>0.0</td>\n",
       "      <td>2028.0</td>\n",
       "      <td>2.0</td>\n",
       "      <td>3485.0</td>\n",
       "      <td>1.0</td>\n",
       "      <td>...</td>\n",
       "      <td>False</td>\n",
       "      <td>False</td>\n",
       "      <td>False</td>\n",
       "      <td>False</td>\n",
       "      <td>False</td>\n",
       "      <td>False</td>\n",
       "      <td>False</td>\n",
       "      <td>False</td>\n",
       "      <td>False</td>\n",
       "      <td>False</td>\n",
       "    </tr>\n",
       "    <tr>\n",
       "      <th>2</th>\n",
       "      <td>AAACCTGAGAGCCCAA-5</td>\n",
       "      <td>donor1</td>\n",
       "      <td>TRA:CASYTDKLIF;TRB:CASSGGSISTDTQYF</td>\n",
       "      <td>TRA:TGTGCTTCCTACACCGACAAGCTCATCTTT;TRB:TGCGCCA...</td>\n",
       "      <td>1598.0</td>\n",
       "      <td>3.0</td>\n",
       "      <td>3454.0</td>\n",
       "      <td>4.0</td>\n",
       "      <td>3383.0</td>\n",
       "      <td>1.0</td>\n",
       "      <td>...</td>\n",
       "      <td>False</td>\n",
       "      <td>False</td>\n",
       "      <td>False</td>\n",
       "      <td>False</td>\n",
       "      <td>False</td>\n",
       "      <td>False</td>\n",
       "      <td>False</td>\n",
       "      <td>False</td>\n",
       "      <td>False</td>\n",
       "      <td>False</td>\n",
       "    </tr>\n",
       "    <tr>\n",
       "      <th>3</th>\n",
       "      <td>AAACCTGAGAGCTGCA-24</td>\n",
       "      <td>donor1</td>\n",
       "      <td>TRB:CASSGGQSSYEQYF</td>\n",
       "      <td>TRB:TGCGCCAGCAGTGGCGGACAGAGCTCCTACGAGCAGTACTTC</td>\n",
       "      <td>298.0</td>\n",
       "      <td>1.0</td>\n",
       "      <td>880.0</td>\n",
       "      <td>1.0</td>\n",
       "      <td>2389.0</td>\n",
       "      <td>1.0</td>\n",
       "      <td>...</td>\n",
       "      <td>False</td>\n",
       "      <td>False</td>\n",
       "      <td>False</td>\n",
       "      <td>False</td>\n",
       "      <td>False</td>\n",
       "      <td>False</td>\n",
       "      <td>False</td>\n",
       "      <td>False</td>\n",
       "      <td>False</td>\n",
       "      <td>False</td>\n",
       "    </tr>\n",
       "    <tr>\n",
       "      <th>4</th>\n",
       "      <td>AAACCTGAGAGGGATA-8</td>\n",
       "      <td>donor1</td>\n",
       "      <td>TRA:CAASGYGNTGRRALTF;TRB:CASSQDPAGGYNEQFF</td>\n",
       "      <td>TRA:TGTGCAGCAAGCGGGTATGGAAACACGGGCAGGAGAGCACTT...</td>\n",
       "      <td>1036.0</td>\n",
       "      <td>0.0</td>\n",
       "      <td>2457.0</td>\n",
       "      <td>2.0</td>\n",
       "      <td>3427.0</td>\n",
       "      <td>3.0</td>\n",
       "      <td>...</td>\n",
       "      <td>False</td>\n",
       "      <td>False</td>\n",
       "      <td>False</td>\n",
       "      <td>False</td>\n",
       "      <td>False</td>\n",
       "      <td>False</td>\n",
       "      <td>False</td>\n",
       "      <td>False</td>\n",
       "      <td>False</td>\n",
       "      <td>False</td>\n",
       "    </tr>\n",
       "    <tr>\n",
       "      <th>...</th>\n",
       "      <td>...</td>\n",
       "      <td>...</td>\n",
       "      <td>...</td>\n",
       "      <td>...</td>\n",
       "      <td>...</td>\n",
       "      <td>...</td>\n",
       "      <td>...</td>\n",
       "      <td>...</td>\n",
       "      <td>...</td>\n",
       "      <td>...</td>\n",
       "      <td>...</td>\n",
       "      <td>...</td>\n",
       "      <td>...</td>\n",
       "      <td>...</td>\n",
       "      <td>...</td>\n",
       "      <td>...</td>\n",
       "      <td>...</td>\n",
       "      <td>...</td>\n",
       "      <td>...</td>\n",
       "      <td>...</td>\n",
       "      <td>...</td>\n",
       "    </tr>\n",
       "    <tr>\n",
       "      <th>46521</th>\n",
       "      <td>TTTGTCATCGAGGTAG-13</td>\n",
       "      <td>donor1</td>\n",
       "      <td>TRA:CATDGSSGGSNYKLTF;TRB:CASSTSNEQPQHF</td>\n",
       "      <td>TRA:TGTGCTACGGACGGAAGTAGTGGAGGTAGCAACTATAAACTG...</td>\n",
       "      <td>241.0</td>\n",
       "      <td>1.0</td>\n",
       "      <td>44.0</td>\n",
       "      <td>1.0</td>\n",
       "      <td>731.0</td>\n",
       "      <td>3.0</td>\n",
       "      <td>...</td>\n",
       "      <td>False</td>\n",
       "      <td>False</td>\n",
       "      <td>False</td>\n",
       "      <td>False</td>\n",
       "      <td>False</td>\n",
       "      <td>False</td>\n",
       "      <td>False</td>\n",
       "      <td>False</td>\n",
       "      <td>False</td>\n",
       "      <td>False</td>\n",
       "    </tr>\n",
       "    <tr>\n",
       "      <th>46522</th>\n",
       "      <td>TTTGTCATCTCCAACC-24</td>\n",
       "      <td>donor1</td>\n",
       "      <td>TRA:CAASPGGYSTLTF;TRB:CASSSDGQSSYNEQFF</td>\n",
       "      <td>TRA:TGTGCAGCAAGCCCCGGGGGATACAGCACCCTCACCTTT;TR...</td>\n",
       "      <td>821.0</td>\n",
       "      <td>2.0</td>\n",
       "      <td>2907.0</td>\n",
       "      <td>2.0</td>\n",
       "      <td>2626.0</td>\n",
       "      <td>3.0</td>\n",
       "      <td>...</td>\n",
       "      <td>False</td>\n",
       "      <td>False</td>\n",
       "      <td>False</td>\n",
       "      <td>False</td>\n",
       "      <td>False</td>\n",
       "      <td>False</td>\n",
       "      <td>False</td>\n",
       "      <td>False</td>\n",
       "      <td>False</td>\n",
       "      <td>False</td>\n",
       "    </tr>\n",
       "    <tr>\n",
       "      <th>46523</th>\n",
       "      <td>TTTGTCATCTCCTATA-36</td>\n",
       "      <td>donor1</td>\n",
       "      <td>TRA:CADHGGATNKLIF;TRB:CASSTGAGVNEQYF</td>\n",
       "      <td>TRA:TGTGCAGACCATGGTGGTGCTACAAACAAGCTCATCTTT;TR...</td>\n",
       "      <td>1216.0</td>\n",
       "      <td>3.0</td>\n",
       "      <td>802.0</td>\n",
       "      <td>3.0</td>\n",
       "      <td>5506.0</td>\n",
       "      <td>1.0</td>\n",
       "      <td>...</td>\n",
       "      <td>False</td>\n",
       "      <td>False</td>\n",
       "      <td>False</td>\n",
       "      <td>False</td>\n",
       "      <td>False</td>\n",
       "      <td>False</td>\n",
       "      <td>False</td>\n",
       "      <td>False</td>\n",
       "      <td>False</td>\n",
       "      <td>False</td>\n",
       "    </tr>\n",
       "    <tr>\n",
       "      <th>46524</th>\n",
       "      <td>TTTGTCATCTGTCAAG-32</td>\n",
       "      <td>donor1</td>\n",
       "      <td>TRA:CALSEARNYGQNFVF;TRB:CASSLGASRSTDTQYF</td>\n",
       "      <td>TRA:TGTGCTCTGAGTGAGGCGCGAAACTATGGTCAGAATTTTGTC...</td>\n",
       "      <td>913.0</td>\n",
       "      <td>2.0</td>\n",
       "      <td>241.0</td>\n",
       "      <td>3.0</td>\n",
       "      <td>4665.0</td>\n",
       "      <td>0.0</td>\n",
       "      <td>...</td>\n",
       "      <td>False</td>\n",
       "      <td>False</td>\n",
       "      <td>False</td>\n",
       "      <td>False</td>\n",
       "      <td>False</td>\n",
       "      <td>False</td>\n",
       "      <td>False</td>\n",
       "      <td>False</td>\n",
       "      <td>False</td>\n",
       "      <td>False</td>\n",
       "    </tr>\n",
       "    <tr>\n",
       "      <th>46525</th>\n",
       "      <td>TTTGTCATCTGTCCGT-39</td>\n",
       "      <td>donor1</td>\n",
       "      <td>TRA:CAESKGYGGSQGNLIF;TRB:CISAPAVPPAGKAFF</td>\n",
       "      <td>TRA:TGTGCAGAGAGTAAGGGTTATGGAGGAAGCCAAGGAAATCTC...</td>\n",
       "      <td>562.0</td>\n",
       "      <td>26.0</td>\n",
       "      <td>1001.0</td>\n",
       "      <td>57.0</td>\n",
       "      <td>1574.0</td>\n",
       "      <td>19.0</td>\n",
       "      <td>...</td>\n",
       "      <td>False</td>\n",
       "      <td>False</td>\n",
       "      <td>False</td>\n",
       "      <td>False</td>\n",
       "      <td>False</td>\n",
       "      <td>False</td>\n",
       "      <td>False</td>\n",
       "      <td>False</td>\n",
       "      <td>False</td>\n",
       "      <td>False</td>\n",
       "    </tr>\n",
       "  </tbody>\n",
       "</table>\n",
       "<p>46526 rows × 118 columns</p>\n",
       "</div>"
      ],
      "text/plain": [
       "                   barcode   donor  \\\n",
       "0       AAACCTGAGACAAAGG-4  donor1   \n",
       "1      AAACCTGAGACTGTAA-34  donor1   \n",
       "2       AAACCTGAGAGCCCAA-5  donor1   \n",
       "3      AAACCTGAGAGCTGCA-24  donor1   \n",
       "4       AAACCTGAGAGGGATA-8  donor1   \n",
       "...                    ...     ...   \n",
       "46521  TTTGTCATCGAGGTAG-13  donor1   \n",
       "46522  TTTGTCATCTCCAACC-24  donor1   \n",
       "46523  TTTGTCATCTCCTATA-36  donor1   \n",
       "46524  TTTGTCATCTGTCAAG-32  donor1   \n",
       "46525  TTTGTCATCTGTCCGT-39  donor1   \n",
       "\n",
       "                                      cell_clono_cdr3_aa  \\\n",
       "0      TRA:CAASVSIWTGTASKLTF;TRA:CAAWDMEYGNKLVF;TRB:C...   \n",
       "1                                        TRB:CASDTPVGQFF   \n",
       "2                     TRA:CASYTDKLIF;TRB:CASSGGSISTDTQYF   \n",
       "3                                     TRB:CASSGGQSSYEQYF   \n",
       "4              TRA:CAASGYGNTGRRALTF;TRB:CASSQDPAGGYNEQFF   \n",
       "...                                                  ...   \n",
       "46521             TRA:CATDGSSGGSNYKLTF;TRB:CASSTSNEQPQHF   \n",
       "46522             TRA:CAASPGGYSTLTF;TRB:CASSSDGQSSYNEQFF   \n",
       "46523               TRA:CADHGGATNKLIF;TRB:CASSTGAGVNEQYF   \n",
       "46524           TRA:CALSEARNYGQNFVF;TRB:CASSLGASRSTDTQYF   \n",
       "46525           TRA:CAESKGYGGSQGNLIF;TRB:CISAPAVPPAGKAFF   \n",
       "\n",
       "                                      cell_clono_cdr3_nt     CD3  CD19  \\\n",
       "0      TRA:TGTGCAGCAAGCGTTAGTATTTGGACCGGCACTGCCAGTAAA...  2125.0   0.0   \n",
       "1                  TRB:TGTGCCAGCGATACCCCGGTTGGGCAGTTCTTC  1023.0   0.0   \n",
       "2      TRA:TGTGCTTCCTACACCGACAAGCTCATCTTT;TRB:TGCGCCA...  1598.0   3.0   \n",
       "3         TRB:TGCGCCAGCAGTGGCGGACAGAGCTCCTACGAGCAGTACTTC   298.0   1.0   \n",
       "4      TRA:TGTGCAGCAAGCGGGTATGGAAACACGGGCAGGAGAGCACTT...  1036.0   0.0   \n",
       "...                                                  ...     ...   ...   \n",
       "46521  TRA:TGTGCTACGGACGGAAGTAGTGGAGGTAGCAACTATAAACTG...   241.0   1.0   \n",
       "46522  TRA:TGTGCAGCAAGCCCCGGGGGATACAGCACCCTCACCTTT;TR...   821.0   2.0   \n",
       "46523  TRA:TGTGCAGACCATGGTGGTGCTACAAACAAGCTCATCTTT;TR...  1216.0   3.0   \n",
       "46524  TRA:TGTGCTCTGAGTGAGGCGCGAAACTATGGTCAGAATTTTGTC...   913.0   2.0   \n",
       "46525  TRA:TGTGCAGAGAGTAAGGGTTATGGAGGAAGCCAAGGAAATCTC...   562.0  26.0   \n",
       "\n",
       "       CD45RA   CD4    CD8a  CD14  ...  B0702_RPHERNGFTVL_pp65_CMV_binder  \\\n",
       "0       912.0   1.0  2223.0   4.0  ...                              False   \n",
       "1      2028.0   2.0  3485.0   1.0  ...                              False   \n",
       "2      3454.0   4.0  3383.0   1.0  ...                              False   \n",
       "3       880.0   1.0  2389.0   1.0  ...                              False   \n",
       "4      2457.0   2.0  3427.0   3.0  ...                              False   \n",
       "...       ...   ...     ...   ...  ...                                ...   \n",
       "46521    44.0   1.0   731.0   3.0  ...                              False   \n",
       "46522  2907.0   2.0  2626.0   3.0  ...                              False   \n",
       "46523   802.0   3.0  5506.0   1.0  ...                              False   \n",
       "46524   241.0   3.0  4665.0   0.0  ...                              False   \n",
       "46525  1001.0  57.0  1574.0  19.0  ...                              False   \n",
       "\n",
       "       B0801_RAKFKQLL_BZLF1_EBV_binder  B0801_ELRRKMMYM_IE-1_CMV_binder  \\\n",
       "0                                False                            False   \n",
       "1                                False                            False   \n",
       "2                                False                            False   \n",
       "3                                False                            False   \n",
       "4                                False                            False   \n",
       "...                                ...                              ...   \n",
       "46521                            False                            False   \n",
       "46522                            False                            False   \n",
       "46523                            False                            False   \n",
       "46524                            False                            False   \n",
       "46525                            False                            False   \n",
       "\n",
       "       B0801_FLRGRAYGL_EBNA-3A_EBV_binder  A0101_SLEGGGLGY_NC_binder  \\\n",
       "0                                   False                      False   \n",
       "1                                   False                      False   \n",
       "2                                   False                      False   \n",
       "3                                   False                      False   \n",
       "4                                   False                      False   \n",
       "...                                   ...                        ...   \n",
       "46521                               False                      False   \n",
       "46522                               False                      False   \n",
       "46523                               False                      False   \n",
       "46524                               False                      False   \n",
       "46525                               False                      False   \n",
       "\n",
       "       A0101_STEGGGLAY_NC_binder  A0201_ALIAPVHAV_NC_binder  \\\n",
       "0                          False                      False   \n",
       "1                          False                      False   \n",
       "2                          False                      False   \n",
       "3                          False                      False   \n",
       "4                          False                      False   \n",
       "...                          ...                        ...   \n",
       "46521                      False                      False   \n",
       "46522                      False                      False   \n",
       "46523                      False                      False   \n",
       "46524                      False                      False   \n",
       "46525                      False                      False   \n",
       "\n",
       "       A2402_AYSSAGASI_NC_binder  B0702_GPAESAAGL_NC_binder  \\\n",
       "0                          False                      False   \n",
       "1                          False                      False   \n",
       "2                          False                      False   \n",
       "3                          False                      False   \n",
       "4                          False                      False   \n",
       "...                          ...                        ...   \n",
       "46521                      False                      False   \n",
       "46522                      False                      False   \n",
       "46523                      False                      False   \n",
       "46524                      False                      False   \n",
       "46525                      False                      False   \n",
       "\n",
       "       NR(B0801)_AAKGRGAAL_NC_binder  \n",
       "0                              False  \n",
       "1                              False  \n",
       "2                              False  \n",
       "3                              False  \n",
       "4                              False  \n",
       "...                              ...  \n",
       "46521                          False  \n",
       "46522                          False  \n",
       "46523                          False  \n",
       "46524                          False  \n",
       "46525                          False  \n",
       "\n",
       "[46526 rows x 118 columns]"
      ]
     },
     "execution_count": 8,
     "metadata": {},
     "output_type": "execute_result"
    }
   ],
   "source": [
    "df"
   ]
  },
  {
   "cell_type": "markdown",
   "metadata": {},
   "source": [
    "## Select Antigens"
   ]
  },
  {
   "cell_type": "code",
   "execution_count": 9,
   "metadata": {},
   "outputs": [
    {
     "name": "stdout",
     "output_type": "stream",
     "text": [
      "7\n",
      "35\n",
      "505\n",
      "25\n",
      "157\n",
      "291\n",
      "278\n"
     ]
    },
    {
     "data": {
      "text/plain": [
       "['ELRRKMMYM',\n",
       " 'IPSINVHHY',\n",
       " 'NLVPMVATV',\n",
       " 'QYDPVAALF',\n",
       " 'RPHERNGFTVL',\n",
       " 'TPRVTGGGAM',\n",
       " 'VTEHDTLLY']"
      ]
     },
     "execution_count": 9,
     "metadata": {},
     "output_type": "execute_result"
    }
   ],
   "source": [
    "df_2=pd.read_csv('C:/Users/Anjin/Downloads/CMV_epitopes_vj.csv')\n",
    "antigen_selection=[]\n",
    "for i in np.unique(df_2['Epitope']):\n",
    "    print(len(df_2.iloc[np.where(df_2['Epitope']==i)[0],:]))\n",
    "    if len(df_2.iloc[np.where(df_2['Epitope']==i)[0],:])>0:\n",
    "        antigen_selection.append(i)\n",
    "#antigen_selection.append('KLGGALQAK')\n",
    "antigen_selection"
   ]
  },
  {
   "cell_type": "code",
   "execution_count": 10,
   "metadata": {},
   "outputs": [
    {
     "data": {
      "text/plain": [
       "array([ 68,  84, 102, 104, 106, 108, 110])"
      ]
     },
     "execution_count": 10,
     "metadata": {},
     "output_type": "execute_result"
    }
   ],
   "source": [
    "##only the CMV related antigens were used here. \n",
    "CMV_seq=[]\n",
    "for idx, i in enumerate(df.columns):\n",
    "    if '_binder' in i:\n",
    "        for e in antigen_selection:\n",
    "            if e in i:\n",
    "                CMV_seq.append(idx)#Generate the column numbers of CMV antigen \n",
    "#CMV_seq=[range]\n",
    "#CMV_seq=[* range(86,98,1)]\n",
    "CMV_seq=np.unique(CMV_seq)\n",
    "CMV_seq"
   ]
  },
  {
   "cell_type": "code",
   "execution_count": 11,
   "metadata": {},
   "outputs": [
    {
     "data": {
      "text/plain": [
       "Index(['A0101_VTEHDTLLY_IE-1_CMV_binder', 'A0201_NLVPMVATV_pp65_CMV_binder',\n",
       "       'B3501_IPSINVHHY_pp65_CMV_binder', 'A2402_QYDPVAALF_pp65_CMV_binder',\n",
       "       'B0702_TPRVTGGGAM_pp65_CMV_binder', 'B0702_RPHERNGFTVL_pp65_CMV_binder',\n",
       "       'B0801_ELRRKMMYM_IE-1_CMV_binder'],\n",
       "      dtype='object')"
      ]
     },
     "execution_count": 11,
     "metadata": {},
     "output_type": "execute_result"
    }
   ],
   "source": [
    "df.columns[CMV_seq]"
   ]
  },
  {
   "cell_type": "markdown",
   "metadata": {},
   "source": [
    "# Data preprocessing"
   ]
  },
  {
   "cell_type": "code",
   "execution_count": 12,
   "metadata": {},
   "outputs": [],
   "source": [
    "##Get antigen sequences\n",
    "Antigen=[]\n",
    "for i in df.columns:\n",
    "    try:\n",
    "        Antigen.append(i.split('_')[1])\n",
    "    except:\n",
    "        Antigen.append('')#  list of antigen sequences used\n",
    "        \n",
    "##get TCR beta chain sequences and delete rows without TCR beta chain information.\n",
    "TRB=[]\n",
    "delete_seq=[]\n",
    "for counter,i in enumerate(df['cell_clono_cdr3_aa']):\n",
    "\n",
    "    temp=i.split(';')\n",
    "    TRB1=\"\"\n",
    "    c=0\n",
    "    for text in temp:\n",
    "        if 'TRB' in text:\n",
    "            TRB1=text.split(':')[1]\n",
    "            c+=1\n",
    "    if TRB1==\"\" or c>1:\n",
    "        delete_seq.append(counter)\n",
    "    else:\n",
    "            TRB.append(TRB1)# list of TCR beta chain sequences           \n",
    "##delete rows with no TRB\n",
    "df=df.drop(delete_seq, axis=0)#get rid of rows with no TRB sequences\n",
    "df.reset_index(drop=True, inplace=True)\n",
    "# u, indices = np.unique(TRB, return_index=True)\n",
    "# TRB=np.array(TRB)[np.asarray(np.sort(indices))]\n",
    "# df=df.iloc[np.asarray(np.sort(indices)),:]\n",
    "# df.reset_index(drop=True, inplace=True)\n"
   ]
  },
  {
   "cell_type": "code",
   "execution_count": 13,
   "metadata": {},
   "outputs": [
    {
     "name": "stdout",
     "output_type": "stream",
     "text": [
      "(43072, 118)\n",
      "43072\n"
     ]
    }
   ],
   "source": [
    "print(df.shape)\n",
    "print(len(TRB))"
   ]
  },
  {
   "cell_type": "markdown",
   "metadata": {},
   "source": [
    "### Load V and J genes"
   ]
  },
  {
   "cell_type": "code",
   "execution_count": 14,
   "metadata": {},
   "outputs": [],
   "source": [
    "trb_unique = np.unique(TRB)\n",
    "trb_unique=pd.DataFrame(trb_unique)\n",
    "trb_unique.columns=['cdr3']\n",
    "#load vj genes\n",
    "df_v_j = pd.read_csv('C:/Users/Anjin/Downloads/10x_donor1_vj_gene.csv')\n",
    "df_plus = pd.merge(trb_unique, df_v_j, on='cdr3') "
   ]
  },
  {
   "cell_type": "code",
   "execution_count": 15,
   "metadata": {},
   "outputs": [],
   "source": [
    "j_gene_list=np.unique(df_plus['j_gene'])\n",
    "v_gene_list=np.unique(df_plus['v_gene'])\n",
    "\n",
    "\n",
    "import pickle\n",
    "save = open('j_gene_list.pkl', 'wb')\n",
    "pickle.dump(j_gene_list, save)\n",
    "save.close()\n",
    "\n",
    "import pickle\n",
    "save = open('v_gene_list.pkl', 'wb')\n",
    "pickle.dump(v_gene_list, save)\n",
    "save.close()"
   ]
  },
  {
   "cell_type": "markdown",
   "metadata": {},
   "source": [
    "### Assemble the antigen, the tcr and v/j genes into input sequences"
   ]
  },
  {
   "cell_type": "code",
   "execution_count": 16,
   "metadata": {},
   "outputs": [],
   "source": [
    "\n",
    "\n",
    "input_seq_trb=[]\n",
    "input_seq_antigen=[]\n",
    "output=[]\n",
    "input_seq_v=[]\n",
    "input_seq_j=[]\n",
    "\n",
    "for counter, t in enumerate(df_plus['cdr3']):\n",
    "    \n",
    "    trb_indices = [index for index, x in enumerate(TRB) if x==t]\n",
    "    \n",
    "    if np.array(CMV_seq).size==1:\n",
    "        p= sum(df.iloc[trb_indices, CMV_seq].astype(float))/len(trb_indices)\n",
    "        input_seq_v.append(df_plus['v_gene'][counter])\n",
    "        input_seq_j.append(df_plus['j_gene'][counter])\n",
    "        input_seq_trb.append(t)\n",
    "        input_seq_antigen.append(Antigen[CMV_seq])\n",
    "\n",
    "        output.append(1.0) if p>=0.2 else output.append(0.0)\n",
    "    else:\n",
    "        \n",
    "        for i in CMV_seq:\n",
    "            \n",
    "            p= sum(df.iloc[trb_indices, i].astype(float))/len(trb_indices)\n",
    "            input_seq_v.append(df_plus['v_gene'][counter])\n",
    "            input_seq_j.append(df_plus['j_gene'][counter])\n",
    "            input_seq_trb.append(t)\n",
    "            input_seq_antigen.append(Antigen[i])\n",
    "    \n",
    "            output.append(1.0) if p>=0.2 else output.append(0.0)"
   ]
  },
  {
   "cell_type": "code",
   "execution_count": null,
   "metadata": {},
   "outputs": [],
   "source": []
  },
  {
   "cell_type": "code",
   "execution_count": 17,
   "metadata": {},
   "outputs": [
    {
     "name": "stdout",
     "output_type": "stream",
     "text": [
      "173880\n",
      "173880\n",
      "173880\n",
      "1.0\n",
      "6.0\n"
     ]
    }
   ],
   "source": [
    "print(len(input_seq_trb))\n",
    "print(len(input_seq_antigen))\n",
    "print(len(output))\n",
    "print(sum(output[2::9]))\n",
    "print(sum(output))"
   ]
  },
  {
   "cell_type": "code",
   "execution_count": 18,
   "metadata": {},
   "outputs": [],
   "source": [
    "input_seq_trb = np.array(input_seq_trb)#[[down_sampling]]\n",
    "\n",
    "input_seq_antigen = np.array(input_seq_antigen)#[[down_sampling]]\n",
    "output = np.array(output)#[[down_sampling]]\n"
   ]
  },
  {
   "cell_type": "markdown",
   "metadata": {},
   "source": [
    "### Adding additional positive binding data"
   ]
  },
  {
   "cell_type": "code",
   "execution_count": 19,
   "metadata": {},
   "outputs": [
    {
     "data": {
      "text/plain": [
       "43072"
      ]
     },
     "execution_count": 19,
     "metadata": {},
     "output_type": "execute_result"
    }
   ],
   "source": [
    "df.shape[0]"
   ]
  },
  {
   "cell_type": "code",
   "execution_count": 20,
   "metadata": {},
   "outputs": [
    {
     "data": {
      "text/plain": [
       "(1298, 4)"
      ]
     },
     "execution_count": 20,
     "metadata": {},
     "output_type": "execute_result"
    }
   ],
   "source": [
    "df_2.shape"
   ]
  },
  {
   "cell_type": "code",
   "execution_count": 21,
   "metadata": {},
   "outputs": [
    {
     "data": {
      "text/html": [
       "<div>\n",
       "<style scoped>\n",
       "    .dataframe tbody tr th:only-of-type {\n",
       "        vertical-align: middle;\n",
       "    }\n",
       "\n",
       "    .dataframe tbody tr th {\n",
       "        vertical-align: top;\n",
       "    }\n",
       "\n",
       "    .dataframe thead th {\n",
       "        text-align: right;\n",
       "    }\n",
       "</style>\n",
       "<table border=\"1\" class=\"dataframe\">\n",
       "  <thead>\n",
       "    <tr style=\"text-align: right;\">\n",
       "      <th></th>\n",
       "      <th>CDR3</th>\n",
       "      <th>V</th>\n",
       "      <th>J</th>\n",
       "      <th>Epitope</th>\n",
       "    </tr>\n",
       "  </thead>\n",
       "  <tbody>\n",
       "    <tr>\n",
       "      <th>0</th>\n",
       "      <td>CASSYSGQGSAAGETQYF</td>\n",
       "      <td>TRBV6-6</td>\n",
       "      <td>TRBJ2-5</td>\n",
       "      <td>ELRRKMMYM</td>\n",
       "    </tr>\n",
       "    <tr>\n",
       "      <th>1</th>\n",
       "      <td>CAISEFGLAGSDEQF</td>\n",
       "      <td>TRBV10-3</td>\n",
       "      <td>TRBJ2-1</td>\n",
       "      <td>ELRRKMMYM</td>\n",
       "    </tr>\n",
       "    <tr>\n",
       "      <th>2</th>\n",
       "      <td>CASSFNGPNTEAF</td>\n",
       "      <td>TRBV1-5</td>\n",
       "      <td>TRBJ1-1</td>\n",
       "      <td>ELRRKMMYM</td>\n",
       "    </tr>\n",
       "    <tr>\n",
       "      <th>3</th>\n",
       "      <td>CASSLFDGTGSTEAF</td>\n",
       "      <td>TRBV27</td>\n",
       "      <td>TRBJ1-1</td>\n",
       "      <td>ELRRKMMYM</td>\n",
       "    </tr>\n",
       "    <tr>\n",
       "      <th>4</th>\n",
       "      <td>CASSLTQGANTEAF</td>\n",
       "      <td>TRBV19</td>\n",
       "      <td>TRBJ1-1</td>\n",
       "      <td>ELRRKMMYM</td>\n",
       "    </tr>\n",
       "    <tr>\n",
       "      <th>...</th>\n",
       "      <td>...</td>\n",
       "      <td>...</td>\n",
       "      <td>...</td>\n",
       "      <td>...</td>\n",
       "    </tr>\n",
       "    <tr>\n",
       "      <th>1293</th>\n",
       "      <td>CASSQERGGKWAYEQYF</td>\n",
       "      <td>TRBV9</td>\n",
       "      <td>TRBJ2-7</td>\n",
       "      <td>VTEHDTLLY</td>\n",
       "    </tr>\n",
       "    <tr>\n",
       "      <th>1294</th>\n",
       "      <td>CASSVGQGKTYEQYF</td>\n",
       "      <td>TRBV9</td>\n",
       "      <td>TRBJ2-7</td>\n",
       "      <td>VTEHDTLLY</td>\n",
       "    </tr>\n",
       "    <tr>\n",
       "      <th>1295</th>\n",
       "      <td>CASSVGQGVTYEQYF</td>\n",
       "      <td>TRBV9</td>\n",
       "      <td>TRBJ2-7</td>\n",
       "      <td>VTEHDTLLY</td>\n",
       "    </tr>\n",
       "    <tr>\n",
       "      <th>1296</th>\n",
       "      <td>CASSVRQGVTYEQYF</td>\n",
       "      <td>TRBV9</td>\n",
       "      <td>TRBJ2-7</td>\n",
       "      <td>VTEHDTLLY</td>\n",
       "    </tr>\n",
       "    <tr>\n",
       "      <th>1297</th>\n",
       "      <td>CASSVVHGVTYEQYF</td>\n",
       "      <td>TRBV9</td>\n",
       "      <td>TRBJ2-7</td>\n",
       "      <td>VTEHDTLLY</td>\n",
       "    </tr>\n",
       "  </tbody>\n",
       "</table>\n",
       "<p>1298 rows × 4 columns</p>\n",
       "</div>"
      ],
      "text/plain": [
       "                    CDR3         V        J    Epitope\n",
       "0     CASSYSGQGSAAGETQYF   TRBV6-6  TRBJ2-5  ELRRKMMYM\n",
       "1        CAISEFGLAGSDEQF  TRBV10-3  TRBJ2-1  ELRRKMMYM\n",
       "2          CASSFNGPNTEAF   TRBV1-5  TRBJ1-1  ELRRKMMYM\n",
       "3        CASSLFDGTGSTEAF    TRBV27  TRBJ1-1  ELRRKMMYM\n",
       "4         CASSLTQGANTEAF    TRBV19  TRBJ1-1  ELRRKMMYM\n",
       "...                  ...       ...      ...        ...\n",
       "1293   CASSQERGGKWAYEQYF     TRBV9  TRBJ2-7  VTEHDTLLY\n",
       "1294     CASSVGQGKTYEQYF     TRBV9  TRBJ2-7  VTEHDTLLY\n",
       "1295     CASSVGQGVTYEQYF     TRBV9  TRBJ2-7  VTEHDTLLY\n",
       "1296     CASSVRQGVTYEQYF     TRBV9  TRBJ2-7  VTEHDTLLY\n",
       "1297     CASSVVHGVTYEQYF     TRBV9  TRBJ2-7  VTEHDTLLY\n",
       "\n",
       "[1298 rows x 4 columns]"
      ]
     },
     "execution_count": 21,
     "metadata": {},
     "output_type": "execute_result"
    }
   ],
   "source": [
    "used_list=[index for index, x in enumerate(df_2['Epitope']) if x in antigen_selection]\n",
    "df_2=df_2.iloc[used_list,:].reset_index(drop=True)\n",
    "#train_index=np.array(df_2.sample(n=df_2.shape[0]//10, random_state=1).index)\n",
    "#df_2=df_2.iloc[~df_2.index.isin(train_index),:].reset_index(drop=True)\n",
    "df_2"
   ]
  },
  {
   "cell_type": "code",
   "execution_count": 22,
   "metadata": {},
   "outputs": [],
   "source": [
    "\n",
    "for counter,i in enumerate(df_2['CDR3']):\n",
    "\n",
    "    if i not in input_seq_trb:\n",
    "        \n",
    " \n",
    "        input_seq_trb = np.append(input_seq_trb, df_2.loc[counter, 'CDR3'])\n",
    "        input_seq_antigen = np.append(input_seq_antigen, df_2.loc[counter, 'Epitope'])\n",
    "        input_seq_v = np.append(input_seq_v, df_2.loc[counter, 'V'])\n",
    "        input_seq_j = np.append(input_seq_j, df_2.loc[counter, 'J'])\n",
    "\n",
    "        output = np.append(output, 1.0)\n",
    "\n",
    "\n",
    "        \n",
    "#         input_seq_trb.append(df_2.loc[counter, 'CDR3'])\n",
    "#         input_seq_antigen.append(df_2.loc[counter, 'Epitope'])\n",
    "#         output.append(1.0)\n",
    "    \n"
   ]
  },
  {
   "cell_type": "code",
   "execution_count": 23,
   "metadata": {},
   "outputs": [
    {
     "name": "stdout",
     "output_type": "stream",
     "text": [
      "number of pairs: 175117\n",
      "total number of positive binding events: 1243.0\n",
      "outcome type in the data: [0. 1.]\n"
     ]
    }
   ],
   "source": [
    "#sanity check\n",
    "print('number of pairs:',len(output))\n",
    "print('total number of positive binding events:',sum(output))\n",
    "print('outcome type in the data:',np.unique(output))"
   ]
  },
  {
   "cell_type": "markdown",
   "metadata": {},
   "source": [
    "The variable input_seq_trb contains TCR beta chain sequences;\n",
    "\n",
    "input_seq_antigen contains antigen sequences;\n",
    "\n",
    "and output contains their binding outcome"
   ]
  },
  {
   "cell_type": "markdown",
   "metadata": {},
   "source": [
    "## Amino acid sequences encoding "
   ]
  },
  {
   "cell_type": "code",
   "execution_count": 24,
   "metadata": {},
   "outputs": [],
   "source": [
    "#change aa sequences into blosum encoding\n",
    "X_tcr=enc_list_bl_start_stop(input_seq_trb, blosum)\n",
    "X_antigen=enc_list_bl(input_seq_antigen, blosum)"
   ]
  },
  {
   "cell_type": "markdown",
   "metadata": {},
   "source": [
    "### VJ genes encoding"
   ]
  },
  {
   "cell_type": "code",
   "execution_count": 25,
   "metadata": {},
   "outputs": [],
   "source": [
    "\n",
    "from sklearn.preprocessing import OneHotEncoder\n",
    "one_hot_encoder_v = OneHotEncoder(sparse=False)\n",
    "one_hot_encoder_v.fit(input_seq_v.reshape(-1, 1))\n",
    "v_encoded = one_hot_encoder_v.transform(input_seq_v.reshape(-1, 1))\n",
    "\n",
    "one_hot_encoder_j = OneHotEncoder(sparse=False)\n",
    "one_hot_encoder_j.fit(input_seq_j.reshape(-1, 1))\n",
    "j_encoded = one_hot_encoder_j.transform(input_seq_j.reshape(-1, 1))"
   ]
  },
  {
   "cell_type": "code",
   "execution_count": null,
   "metadata": {},
   "outputs": [],
   "source": []
  },
  {
   "cell_type": "code",
   "execution_count": 26,
   "metadata": {},
   "outputs": [],
   "source": [
    "import pickle\n",
    "save = open('one_hot_encoder_v.pkl', 'wb')\n",
    "pickle.dump(one_hot_encoder_v, save)\n",
    "save.close()\n",
    "\n",
    "import pickle\n",
    "save = open('one_hot_encoder_j.pkl', 'wb')\n",
    "pickle.dump(one_hot_encoder_j, save)\n",
    "save.close()\n"
   ]
  },
  {
   "cell_type": "code",
   "execution_count": 27,
   "metadata": {},
   "outputs": [
    {
     "data": {
      "text/plain": [
       "175117"
      ]
     },
     "execution_count": 27,
     "metadata": {},
     "output_type": "execute_result"
    }
   ],
   "source": [
    "len(np.sum(j_encoded,axis=1))"
   ]
  },
  {
   "cell_type": "markdown",
   "metadata": {},
   "source": [
    "This step changes amino acid sequences from TCR and antigen to Blosum encodings(a 2D matrix for each aa sequences)"
   ]
  },
  {
   "cell_type": "code",
   "execution_count": 28,
   "metadata": {
    "scrolled": true
   },
   "outputs": [],
   "source": [
    "#change aa sequences into hydrophobicity, charge, helicity, and residue size encoding\n",
    "\n",
    "# hydrophobicity\n",
    "hydinput_seq_trb=np.zeros(shape=X_tcr.shape[:2])\n",
    "for idu, u in enumerate(input_seq_trb):\n",
    "    string=str()\n",
    "    for idx, i in enumerate( u):\n",
    "        hydinput_seq_trb[idu,idx]=hydrophobicity_aa(i)#electronic encoding; return a list of sequences of electronic property types\n",
    "        \n",
    "        \n",
    "hydinput_seq_antigen=np.zeros(shape=X_antigen.shape[:2])\n",
    "for idu, u in enumerate(input_seq_antigen):\n",
    "    string=str()\n",
    "    for idx, i in enumerate( u):\n",
    "        hydinput_seq_antigen[idu,idx]=hydrophobicity_aa(i)#electronic encoding; return a list of sequences of electronic property types\n",
    "        \n",
    "        \n",
    "# charge       \n",
    "cinput_seq_trb=np.zeros(shape=X_tcr.shape[:2])\n",
    "for idu, u in enumerate(input_seq_trb):\n",
    "    string=str()\n",
    "    for idx, i in enumerate( u):\n",
    "        cinput_seq_trb[idu,idx]=charge_aa(i)#residue size encoding encoding; return a list of sequences of molecular weights\n",
    "\n",
    "        \n",
    "cinput_seq_antigen=np.zeros(shape=X_antigen.shape[:2])\n",
    "for idu, u in enumerate(input_seq_antigen):\n",
    "    string=str()\n",
    "    for idx, i in enumerate( u):\n",
    "        cinput_seq_antigen[idu,idx]=charge_aa(i)#residue size encoding encoding; return a list of sequences of molecular weights\n",
    "        \n",
    "\n",
    "#  helicity\n",
    "helinput_seq_trb=np.zeros(shape=X_tcr.shape[:2])\n",
    "for idu, u in enumerate(input_seq_trb):\n",
    "    string=str()\n",
    "    for idx, i in enumerate( u):\n",
    "        helinput_seq_trb[idu,idx]=charge_aa(i)#residue size encoding encoding; return a list of sequences of molecular weights\n",
    "\n",
    "        \n",
    "helinput_seq_antigen=np.zeros(shape=X_antigen.shape[:2])\n",
    "for idu, u in enumerate(input_seq_antigen):\n",
    "    string=str()\n",
    "    for idx, i in enumerate( u):\n",
    "        helinput_seq_antigen[idu,idx]=charge_aa(i)#residue size encoding encoding; return a list of sequences of molecular weights\n",
    "        \n",
    "\n",
    "\n",
    "# size\n",
    "sinput_seq_trb=np.zeros(shape=X_tcr.shape[:2])\n",
    "for idu, u in enumerate(input_seq_trb):\n",
    "    string=str()\n",
    "    for idx, i in enumerate( u):\n",
    "        sinput_seq_trb[idu,idx]=size_aa(i)#residue size encoding encoding; return a list of sequences of molecular weights\n",
    "\n",
    "        \n",
    "sinput_seq_antigen=np.zeros(shape=X_antigen.shape[:2])\n",
    "for idu, u in enumerate(input_seq_antigen):\n",
    "    string=str()\n",
    "    for idx, i in enumerate( u):\n",
    "        sinput_seq_antigen[idu,idx]=size_aa(i)#residue size encoding encoding; return a list of sequences of molecular weights \n",
    "       "
   ]
  },
  {
   "cell_type": "markdown",
   "metadata": {},
   "source": [
    "This step changes aa sequences from TCR and antigen to sequences of electronic property group number or relative molecular mass  "
   ]
  },
  {
   "cell_type": "code",
   "execution_count": 29,
   "metadata": {},
   "outputs": [
    {
     "name": "stdout",
     "output_type": "stream",
     "text": [
      "(175117, 28, 21) (175117, 11, 21) (175117, 28) (175117, 28) (175117, 28) (175117, 28) (175117, 11) (175117, 11) (175117, 11) (175117, 11)\n"
     ]
    }
   ],
   "source": [
    "print(X_tcr.shape,\n",
    "      X_antigen.shape,\n",
    "     cinput_seq_trb.shape,\n",
    "     sinput_seq_trb.shape,\n",
    "     helinput_seq_trb.shape,\n",
    "     hydinput_seq_trb.shape,\n",
    "     cinput_seq_antigen.shape,\n",
    "     sinput_seq_antigen.shape,\n",
    "     helinput_seq_antigen.shape,\n",
    "     hydinput_seq_antigen.shape\n",
    ")\n",
    "      "
   ]
  },
  {
   "cell_type": "code",
   "execution_count": 30,
   "metadata": {},
   "outputs": [
    {
     "data": {
      "text/plain": [
       "69"
      ]
     },
     "execution_count": 30,
     "metadata": {},
     "output_type": "execute_result"
    }
   ],
   "source": [
    "v_encoded.shape[1]"
   ]
  },
  {
   "cell_type": "code",
   "execution_count": 31,
   "metadata": {},
   "outputs": [],
   "source": [
    "##embedding the electronic sequences and residue size sequences\n",
    "from tensorflow import keras\n",
    "from tensorflow.keras import layers\n",
    "\n",
    "# A Sequential model is appropriate for a plain stack of layers where each layer has \n",
    "# exactly one input tensor and one output tensor\n",
    "model = tf.keras.Sequential()\n",
    "\n",
    "# input_dim: 6 levels for electronic properties\n",
    "# output_dim: 5 is the size of the output vector per integer \n",
    "# input_length: 28 is the length of each encoded aa with padding\n",
    "model.add(tf.keras.layers.Embedding(4, 3, input_length=28)) \n",
    "\n",
    "# Configure the training procedure \n",
    "model.compile('rmsprop', 'mse')\n",
    "output_array_c = model.predict(cinput_seq_trb)\n",
    "output_array_hyd = model.predict(hydinput_seq_trb)\n",
    "output_array_hel = model.predict(helinput_seq_trb)\n",
    "\n",
    "from tensorflow import keras\n",
    "from tensorflow.keras import layers\n",
    "model2 = tf.keras.Sequential()\n",
    "model2.add(tf.keras.layers.Embedding(4, 3, input_length=11))\n",
    "output_array_c_antigen = model2.predict(cinput_seq_antigen)\n",
    "output_array_hyd_antigen = model2.predict(hydinput_seq_antigen)\n",
    "output_array_hel_antigen = model2.predict(helinput_seq_antigen)\n"
   ]
  },
  {
   "cell_type": "code",
   "execution_count": 32,
   "metadata": {},
   "outputs": [
    {
     "name": "stdout",
     "output_type": "stream",
     "text": [
      "(175117, 28, 3)\n",
      "(175117, 28, 3)\n",
      "(175117, 11, 3)\n"
     ]
    }
   ],
   "source": [
    "print(output_array_c.shape)\n",
    "print(output_array_hyd.shape)\n",
    "print(output_array_hel_antigen.shape)"
   ]
  },
  {
   "cell_type": "markdown",
   "metadata": {},
   "source": [
    "This step produces embedding for the amino acid electronic property encoding"
   ]
  },
  {
   "cell_type": "markdown",
   "metadata": {},
   "source": [
    "# Build LSTM RNN model architecture"
   ]
  },
  {
   "cell_type": "markdown",
   "metadata": {},
   "source": [
    "### add custom loss function"
   ]
  },
  {
   "cell_type": "code",
   "execution_count": 33,
   "metadata": {},
   "outputs": [],
   "source": [
    "import numpy as np\n",
    "import tensorflow.keras.backend as K\n",
    "\n",
    "def binary_recall_specificity(y_true, y_pred, recall_weight, spec_weight):\n",
    "    \n",
    "    y_pred_thresholding=y_pred#K.cast(K.greater(K.clip(y_pred, 0, 1), 0.5), K.floatx())\n",
    "\n",
    "\n",
    "    tp = K.sum(K.cast(y_true*y_pred_thresholding, 'float'), axis=0)\n",
    "    tn = K.sum(K.cast((1-y_true)*(1-y_pred_thresholding), 'float'), axis=0)\n",
    "    fp = K.sum(K.cast((1-y_true)*y_pred_thresholding, 'float'), axis=0)\n",
    "    fn = K.sum(K.cast(y_true*(1-y_pred_thresholding), 'float'), axis=0)\n",
    "\n",
    "    specificity = tn / (tn + fp + K.epsilon())\n",
    "    recall = tp / (tp + fn + K.epsilon())\n",
    "    precision=tp / (tp + fp + K.epsilon())\n",
    "    bce=tf.keras.backend.binary_crossentropy(y_true, y_pred, from_logits=False)\n",
    "\n",
    "    return 1.0 +bce/5- precision#(recall_weight*recall + spec_weight*specificity)\n",
    "\n",
    "def custom_loss(recall_weight, spec_weight):\n",
    "\n",
    "    def recall_spec_loss(y_true, y_pred):\n",
    "        return binary_recall_specificity(y_true, y_pred, recall_weight, spec_weight)\n",
    "\n",
    "    # Returns the (y_actual, y_pred) loss function\n",
    "    return recall_spec_loss\n",
    "loss = custom_loss(recall_weight=0.1, spec_weight=0.9)"
   ]
  },
  {
   "cell_type": "code",
   "execution_count": 34,
   "metadata": {},
   "outputs": [],
   "source": [
    "##establish the LSTM model\n",
    "import tensorflow as tf\n",
    "import numpy as np\n",
    "\n",
    "tf.__version__\n",
    "tf.random.set_seed(42)\n",
    "# instantiate Keras tensor\n",
    "inputA = tf.keras.Input(shape=(28,21,))\n",
    "x=tf.keras.layers.Bidirectional(tf.keras.layers.LSTM(32,return_sequences=False,recurrent_dropout=0))(inputA)\n",
    "#x=tf.keras.layers.Dense(5, activation=tf.nn.relu)(x)\n",
    "x = tf.keras.Model(inputs=inputA, outputs=x)\n",
    "\n",
    "inputB = tf.keras.Input(shape=(28,3,))\n",
    "yc=tf.keras.layers.Bidirectional(tf.keras.layers.LSTM(32,return_sequences=False,recurrent_dropout=0))(inputB)\n",
    "#y=tf.keras.layers.Dense(5, activation=tf.nn.relu)(y)\n",
    "yc = tf.keras.Model(inputs=inputB, outputs=yc)\n",
    "\n",
    "inputC = tf.keras.Input(shape=(28,1,))\n",
    "ys=tf.keras.layers.Bidirectional(tf.keras.layers.LSTM(32,return_sequences=False,recurrent_dropout=0))(inputC)\n",
    "#y=tf.keras.layers.Dense(5, activation=tf.nn.relu)(y)\n",
    "ys = tf.keras.Model(inputs=inputC, outputs=ys)\n",
    "\n",
    "inputD = tf.keras.Input(shape=(11,21,))\n",
    "ya=tf.keras.layers.Bidirectional(tf.keras.layers.LSTM(32,return_sequences=False,recurrent_dropout=0))(inputD)\n",
    "#y=tf.keras.layers.Dense(5, activation=tf.nn.relu)(y)\n",
    "ya = tf.keras.Model(inputs=inputD, outputs=ya)\n",
    "\n",
    "inputE = tf.keras.Input(shape=(11,3,))\n",
    "yac=tf.keras.layers.Bidirectional(tf.keras.layers.LSTM(32,return_sequences=False,recurrent_dropout=0))(inputE)\n",
    "#y=tf.keras.layers.Dense(5, activation=tf.nn.relu)(y)\n",
    "yac = tf.keras.Model(inputs=inputE, outputs=yac)\n",
    "\n",
    "inputF = tf.keras.Input(shape=(11,1,))\n",
    "yas=tf.keras.layers.Bidirectional(tf.keras.layers.LSTM(32,return_sequences=False,recurrent_dropout=0))(inputF)\n",
    "#y=tf.keras.layers.Dense(5, activation=tf.nn.relu)(y)\n",
    "yas = tf.keras.Model(inputs=inputF, outputs=yas)\n",
    "\n",
    "inputG = tf.keras.Input(shape=(28,3,))\n",
    "yhyd=tf.keras.layers.Bidirectional(tf.keras.layers.LSTM(32,return_sequences=False,recurrent_dropout=0))(inputG)\n",
    "#y=tf.keras.layers.Dense(5, activation=tf.nn.relu)(y)\n",
    "yhyd = tf.keras.Model(inputs=inputG, outputs=yhyd)\n",
    "\n",
    "inputH = tf.keras.Input(shape=(28,3,))\n",
    "yhel=tf.keras.layers.Bidirectional(tf.keras.layers.LSTM(32,return_sequences=False,recurrent_dropout=0))(inputH)\n",
    "#y=tf.keras.layers.Dense(5, activation=tf.nn.relu)(y)\n",
    "yhel = tf.keras.Model(inputs=inputH, outputs=yhel)\n",
    "\n",
    "inputI = tf.keras.Input(shape=(11,3,))\n",
    "yahyd=tf.keras.layers.Bidirectional(tf.keras.layers.LSTM(32,return_sequences=False,recurrent_dropout=0))(inputI)\n",
    "#y=tf.keras.layers.Dense(5, activation=tf.nn.relu)(y)\n",
    "yahyd = tf.keras.Model(inputs=inputI, outputs=yahyd)\n",
    "\n",
    "inputK = tf.keras.Input(shape=(11,3,))\n",
    "yahel=tf.keras.layers.Bidirectional(tf.keras.layers.LSTM(32,return_sequences=False,recurrent_dropout=0))(inputK)\n",
    "#y=tf.keras.layers.Dense(5, activation=tf.nn.relu)(y)\n",
    "yahel = tf.keras.Model(inputs=inputK, outputs=yahel)\n",
    "\n",
    "\n",
    "\n",
    "inputV = tf.keras.Input(shape=(v_encoded.shape[1],))\n",
    "inputJ = tf.keras.Input(shape=(j_encoded.shape[1],))\n",
    "\n",
    "\n",
    "\n",
    "\n",
    "combined1 = tf.keras.layers.concatenate([x.output, ya.output])\n",
    "combined2 = tf.keras.layers.concatenate([yc.output,yac.output])\n",
    "combined3 = tf.keras.layers.concatenate([ys.output,yas.output])\n",
    "combined4 = tf.keras.layers.concatenate([yhyd.output,yahyd.output])\n",
    "combined5 = tf.keras.layers.concatenate([yhel.output,yahel.output])\n",
    "z1=tf.keras.layers.Dense(20, activation=tf.nn.sigmoid)(combined1)\n",
    "#z1=tf.keras.layers.Dense(10, activation=tf.nn.sigmoid)(z1)\n",
    "z2=tf.keras.layers.Dense(20, activation=tf.nn.sigmoid)(combined2)\n",
    "#z2=tf.keras.layers.Dense(10, activation=tf.nn.sigmoid)(z2)\n",
    "z3=tf.keras.layers.Dense(20, activation=tf.nn.sigmoid)(combined3)\n",
    "#z3=tf.keras.layers.Dense(10, activation=tf.nn.sigmoid)(z3)\n",
    "z4=tf.keras.layers.Dense(20, activation=tf.nn.sigmoid)(combined4)\n",
    "z5=tf.keras.layers.Dense(20, activation=tf.nn.sigmoid)(combined5)\n",
    "combined = tf.keras.layers.concatenate([z1,z2,z3,z4,z5,inputV,inputJ])#,\n",
    "#z=tf.keras.layers.Dropout(0.3)(z)\n",
    "z=tf.keras.layers.Dense(20, activation=tf.nn.sigmoid)(combined)#\n",
    "z=tf.keras.layers.Dense(1, activation=tf.nn.sigmoid)(z)#\n",
    "#z=tf.keras.layers.Dropout(0.1)(z)\n",
    "model_bi = tf.keras.Model(inputs=[x.input, yc.input, ys.input,ya.input,yac.input,yas.input,yhyd.input,yhel.input,yahyd.input,yahel.input,inputV,inputJ], outputs=z)\n",
    "\n",
    "model_bi.compile(optimizer='adam',\n",
    "              loss=loss,#'binary_crossentropy',\n",
    "              metrics=['acc'])\n",
    "early_stopping = tf.keras.callbacks.EarlyStopping(patience=5)"
   ]
  },
  {
   "cell_type": "markdown",
   "metadata": {},
   "source": [
    "Please refer to my blog post for graphic summary of model architecture"
   ]
  },
  {
   "cell_type": "code",
   "execution_count": 35,
   "metadata": {},
   "outputs": [
    {
     "name": "stdout",
     "output_type": "stream",
     "text": [
      "Model: \"model_10\"\n",
      "__________________________________________________________________________________________________\n",
      "Layer (type)                    Output Shape         Param #     Connected to                     \n",
      "==================================================================================================\n",
      "input_1 (InputLayer)            [(None, 28, 21)]     0                                            \n",
      "__________________________________________________________________________________________________\n",
      "input_4 (InputLayer)            [(None, 11, 21)]     0                                            \n",
      "__________________________________________________________________________________________________\n",
      "input_2 (InputLayer)            [(None, 28, 3)]      0                                            \n",
      "__________________________________________________________________________________________________\n",
      "input_5 (InputLayer)            [(None, 11, 3)]      0                                            \n",
      "__________________________________________________________________________________________________\n",
      "input_3 (InputLayer)            [(None, 28, 1)]      0                                            \n",
      "__________________________________________________________________________________________________\n",
      "input_6 (InputLayer)            [(None, 11, 1)]      0                                            \n",
      "__________________________________________________________________________________________________\n",
      "input_7 (InputLayer)            [(None, 28, 3)]      0                                            \n",
      "__________________________________________________________________________________________________\n",
      "input_9 (InputLayer)            [(None, 11, 3)]      0                                            \n",
      "__________________________________________________________________________________________________\n",
      "input_8 (InputLayer)            [(None, 28, 3)]      0                                            \n",
      "__________________________________________________________________________________________________\n",
      "input_10 (InputLayer)           [(None, 11, 3)]      0                                            \n",
      "__________________________________________________________________________________________________\n",
      "bidirectional (Bidirectional)   (None, 64)           13824       input_1[0][0]                    \n",
      "__________________________________________________________________________________________________\n",
      "bidirectional_3 (Bidirectional) (None, 64)           13824       input_4[0][0]                    \n",
      "__________________________________________________________________________________________________\n",
      "bidirectional_1 (Bidirectional) (None, 64)           9216        input_2[0][0]                    \n",
      "__________________________________________________________________________________________________\n",
      "bidirectional_4 (Bidirectional) (None, 64)           9216        input_5[0][0]                    \n",
      "__________________________________________________________________________________________________\n",
      "bidirectional_2 (Bidirectional) (None, 64)           8704        input_3[0][0]                    \n",
      "__________________________________________________________________________________________________\n",
      "bidirectional_5 (Bidirectional) (None, 64)           8704        input_6[0][0]                    \n",
      "__________________________________________________________________________________________________\n",
      "bidirectional_6 (Bidirectional) (None, 64)           9216        input_7[0][0]                    \n",
      "__________________________________________________________________________________________________\n",
      "bidirectional_8 (Bidirectional) (None, 64)           9216        input_9[0][0]                    \n",
      "__________________________________________________________________________________________________\n",
      "bidirectional_7 (Bidirectional) (None, 64)           9216        input_8[0][0]                    \n",
      "__________________________________________________________________________________________________\n",
      "bidirectional_9 (Bidirectional) (None, 64)           9216        input_10[0][0]                   \n",
      "__________________________________________________________________________________________________\n",
      "concatenate (Concatenate)       (None, 128)          0           bidirectional[0][0]              \n",
      "                                                                 bidirectional_3[0][0]            \n",
      "__________________________________________________________________________________________________\n",
      "concatenate_1 (Concatenate)     (None, 128)          0           bidirectional_1[0][0]            \n",
      "                                                                 bidirectional_4[0][0]            \n",
      "__________________________________________________________________________________________________\n",
      "concatenate_2 (Concatenate)     (None, 128)          0           bidirectional_2[0][0]            \n",
      "                                                                 bidirectional_5[0][0]            \n",
      "__________________________________________________________________________________________________\n",
      "concatenate_3 (Concatenate)     (None, 128)          0           bidirectional_6[0][0]            \n",
      "                                                                 bidirectional_8[0][0]            \n",
      "__________________________________________________________________________________________________\n",
      "concatenate_4 (Concatenate)     (None, 128)          0           bidirectional_7[0][0]            \n",
      "                                                                 bidirectional_9[0][0]            \n",
      "__________________________________________________________________________________________________\n",
      "dense (Dense)                   (None, 20)           2580        concatenate[0][0]                \n",
      "__________________________________________________________________________________________________\n",
      "dense_1 (Dense)                 (None, 20)           2580        concatenate_1[0][0]              \n",
      "__________________________________________________________________________________________________\n",
      "dense_2 (Dense)                 (None, 20)           2580        concatenate_2[0][0]              \n",
      "__________________________________________________________________________________________________\n",
      "dense_3 (Dense)                 (None, 20)           2580        concatenate_3[0][0]              \n",
      "__________________________________________________________________________________________________\n",
      "dense_4 (Dense)                 (None, 20)           2580        concatenate_4[0][0]              \n",
      "__________________________________________________________________________________________________\n",
      "input_11 (InputLayer)           [(None, 69)]         0                                            \n",
      "__________________________________________________________________________________________________\n",
      "input_12 (InputLayer)           [(None, 13)]         0                                            \n",
      "__________________________________________________________________________________________________\n",
      "concatenate_5 (Concatenate)     (None, 182)          0           dense[0][0]                      \n",
      "                                                                 dense_1[0][0]                    \n",
      "                                                                 dense_2[0][0]                    \n",
      "                                                                 dense_3[0][0]                    \n",
      "                                                                 dense_4[0][0]                    \n",
      "                                                                 input_11[0][0]                   \n",
      "                                                                 input_12[0][0]                   \n",
      "__________________________________________________________________________________________________\n",
      "dense_5 (Dense)                 (None, 20)           3660        concatenate_5[0][0]              \n",
      "__________________________________________________________________________________________________\n",
      "dense_6 (Dense)                 (None, 1)            21          dense_5[0][0]                    \n",
      "==================================================================================================\n",
      "Total params: 116,933\n",
      "Trainable params: 116,933\n",
      "Non-trainable params: 0\n",
      "__________________________________________________________________________________________________\n"
     ]
    }
   ],
   "source": [
    "model_bi.summary()"
   ]
  },
  {
   "cell_type": "markdown",
   "metadata": {},
   "source": [
    "Split data into train and validation set. I used seeding to make sure different types of inputs have the same way of splits"
   ]
  },
  {
   "cell_type": "code",
   "execution_count": null,
   "metadata": {},
   "outputs": [],
   "source": []
  },
  {
   "cell_type": "code",
   "execution_count": 36,
   "metadata": {},
   "outputs": [],
   "source": [
    "from sklearn.model_selection import train_test_split\n",
    "\n",
    "X_trainA, X_valA, y_trainA, y_valA = train_test_split(X_tcr,np.asarray(output).reshape(len(output),1),  \n",
    "    test_size=1/10, random_state=42)\n",
    "X_trainB, X_valB, y_trainB, y_valB = train_test_split(output_array_c, np.asarray(output).reshape(len(output),1),  \n",
    "    test_size=1/10, random_state=42)\n",
    "X_trainC, X_valC, y_trainC, y_valC = train_test_split(sinput_seq_trb[..., np.newaxis], np.asarray(output).reshape(len(output),1),  \n",
    "    test_size=1/10, random_state=42)#,output_array_s\n",
    "X_trainD, X_valD, y_trainD, y_valD = train_test_split(X_antigen, np.asarray(output).reshape(len(output),1),  \n",
    "    test_size=1/10, random_state=42)\n",
    "X_trainE, X_valE, y_trainE, y_valE = train_test_split(output_array_c_antigen, np.asarray(output).reshape(len(output),1),  \n",
    "    test_size=1/10, random_state=42)\n",
    "X_trainF, X_valF, y_train, y_val = train_test_split(sinput_seq_antigen[..., np.newaxis], np.asarray(output).reshape(len(output),1),  \n",
    "    test_size=1/10, random_state=42)#output_array_s_antigen,\n",
    "\n",
    "X_trainG, X_valG, y_trainG, y_valG = train_test_split(output_array_hyd, np.asarray(output).reshape(len(output),1),  \n",
    "    test_size=1/10, random_state=42)\n",
    "X_trainH, X_valH, y_trainH, y_valH = train_test_split(output_array_hel, np.asarray(output).reshape(len(output),1),  \n",
    "    test_size=1/10, random_state=42)\n",
    "\n",
    "X_trainI, X_valI, y_trainI, y_valI = train_test_split(output_array_hyd_antigen, np.asarray(output).reshape(len(output),1),  \n",
    "    test_size=1/10, random_state=42)\n",
    "X_trainK, X_valK, y_trainK, y_valK = train_test_split(output_array_hel_antigen, np.asarray(output).reshape(len(output),1),  \n",
    "    test_size=1/10, random_state=42)\n",
    "\n",
    "X_trainV, X_valV, y_trainV, y_valV = train_test_split(v_encoded, np.asarray(output).reshape(len(output),1),  \n",
    "    test_size=1/10, random_state=42)#output_array_s_antigen,\n",
    "X_trainJ, X_valJ, y_trainJ, y_valJ = train_test_split(j_encoded, np.asarray(output).reshape(len(output),1),  \n",
    "    test_size=1/10, random_state=42)#output_array_s_antigen,"
   ]
  },
  {
   "cell_type": "code",
   "execution_count": 37,
   "metadata": {},
   "outputs": [
    {
     "name": "stdout",
     "output_type": "stream",
     "text": [
      "(157605, 28, 21) (157605, 28, 3) (157605, 28, 1) (157605, 11, 21) (157605, 11, 3) (157605, 11, 1) (157605, 69) (157605, 13)\n",
      "(17512, 28, 21) (17512, 28, 3) (17512, 28, 1) (17512, 11, 21) (17512, 11, 3) (17512, 11, 1) (17512, 69) (17512, 13)\n",
      "(157605, 1) (17512, 1)\n",
      "[1129.] [114.]\n"
     ]
    }
   ],
   "source": [
    "print(X_trainA.shape,X_trainB.shape,X_trainC.shape,X_trainD.shape,X_trainE.shape,X_trainF.shape,X_trainV.shape,X_trainJ.shape)\n",
    "print(X_valA.shape,X_valB.shape,X_valC.shape,X_valD.shape,X_valE.shape,X_valF.shape,X_valV.shape,X_valJ.shape)\n",
    "print(y_train.shape,y_val.shape)\n",
    "print(sum(y_train),sum(y_val))"
   ]
  },
  {
   "cell_type": "markdown",
   "metadata": {},
   "source": [
    "Check the splits are the same for different inputs"
   ]
  },
  {
   "cell_type": "code",
   "execution_count": 38,
   "metadata": {},
   "outputs": [
    {
     "name": "stdout",
     "output_type": "stream",
     "text": [
      "[0.]\n",
      "[0.]\n",
      "[0.]\n",
      "[0.]\n",
      "[0.]\n"
     ]
    }
   ],
   "source": [
    "##examine the splits are the same\n",
    "print(sum(abs(y_train-y_trainA)))\n",
    "print(sum(abs(y_train-y_trainB)))\n",
    "print(sum(abs(y_train-y_trainC)))\n",
    "print(sum(abs(y_train-y_trainD)))\n",
    "print(sum(abs(y_train-y_trainE)))"
   ]
  },
  {
   "cell_type": "markdown",
   "metadata": {},
   "source": [
    "# Training"
   ]
  },
  {
   "cell_type": "markdown",
   "metadata": {},
   "source": [
    "I used 80/20 split for the training validation to early stop in order to avoid overfitting."
   ]
  },
  {
   "cell_type": "code",
   "execution_count": 39,
   "metadata": {},
   "outputs": [
    {
     "name": "stdout",
     "output_type": "stream",
     "text": [
      "Epoch 1/100\n",
      "3941/3941 [==============================] - 130s 33ms/step - loss: 1.0897 - acc: 0.9929 - val_loss: 0.9892 - val_acc: 0.9924\n",
      "Epoch 2/100\n",
      "3941/3941 [==============================] - 129s 33ms/step - loss: 1.0722 - acc: 0.9872 - val_loss: 0.9772 - val_acc: 0.9875\n",
      "Epoch 3/100\n",
      "3941/3941 [==============================] - 127s 32ms/step - loss: 1.0528 - acc: 0.9901 - val_loss: 0.9504 - val_acc: 0.9908\n",
      "Epoch 4/100\n",
      "3941/3941 [==============================] - 116s 30ms/step - loss: 1.0429 - acc: 0.9920 - val_loss: 0.9581 - val_acc: 0.9930\n",
      "Epoch 5/100\n",
      "3941/3941 [==============================] - 115s 29ms/step - loss: 1.0406 - acc: 0.9910 - val_loss: 0.9769 - val_acc: 0.9648\n",
      "Epoch 6/100\n",
      "3941/3941 [==============================] - 114s 29ms/step - loss: 1.0362 - acc: 0.9901 - val_loss: 0.9454 - val_acc: 0.9919\n",
      "Epoch 7/100\n",
      "3941/3941 [==============================] - 113s 29ms/step - loss: 1.0317 - acc: 0.9917 - val_loss: 0.9460 - val_acc: 0.9924\n",
      "Epoch 8/100\n",
      "3941/3941 [==============================] - 115s 29ms/step - loss: 1.0300 - acc: 0.9916 - val_loss: 0.9397 - val_acc: 0.9919\n",
      "Epoch 9/100\n",
      "3941/3941 [==============================] - 115s 29ms/step - loss: 1.0256 - acc: 0.9919 - val_loss: 0.9401 - val_acc: 0.9916\n",
      "Epoch 10/100\n",
      "3941/3941 [==============================] - 116s 29ms/step - loss: 1.0226 - acc: 0.9923 - val_loss: 0.9377 - val_acc: 0.9906\n",
      "Epoch 11/100\n",
      "3941/3941 [==============================] - 113s 29ms/step - loss: 1.0170 - acc: 0.9927 - val_loss: 0.9382 - val_acc: 0.9920\n",
      "Epoch 12/100\n",
      "3941/3941 [==============================] - 113s 29ms/step - loss: 1.0142 - acc: 0.9916 - val_loss: 0.9455 - val_acc: 0.9861\n",
      "Epoch 13/100\n",
      "3941/3941 [==============================] - 114s 29ms/step - loss: 1.0156 - acc: 0.9927 - val_loss: 0.9361 - val_acc: 0.9924\n",
      "Epoch 14/100\n",
      "3941/3941 [==============================] - 115s 29ms/step - loss: 1.0110 - acc: 0.9921 - val_loss: 0.9333 - val_acc: 0.9936\n",
      "Epoch 15/100\n",
      "3941/3941 [==============================] - 112s 28ms/step - loss: 1.0088 - acc: 0.9927 - val_loss: 0.9357 - val_acc: 0.9932\n",
      "Epoch 16/100\n",
      "3941/3941 [==============================] - 114s 29ms/step - loss: 1.0067 - acc: 0.9928 - val_loss: 0.9340 - val_acc: 0.9912\n",
      "Epoch 17/100\n",
      "3941/3941 [==============================] - 117s 30ms/step - loss: 0.9997 - acc: 0.9924 - val_loss: 0.9490 - val_acc: 0.9847\n",
      "Epoch 18/100\n",
      "3941/3941 [==============================] - 116s 29ms/step - loss: 1.0007 - acc: 0.9926 - val_loss: 0.9309 - val_acc: 0.9932\n",
      "Epoch 19/100\n",
      "3941/3941 [==============================] - 114s 29ms/step - loss: 1.0020 - acc: 0.9929 - val_loss: 0.9338 - val_acc: 0.9936\n",
      "Epoch 20/100\n",
      "3941/3941 [==============================] - 114s 29ms/step - loss: 1.0000 - acc: 0.9927 - val_loss: 0.9284 - val_acc: 0.9928\n",
      "Epoch 21/100\n",
      "3941/3941 [==============================] - 113s 29ms/step - loss: 0.9956 - acc: 0.9934 - val_loss: 0.9304 - val_acc: 0.9920\n",
      "Epoch 22/100\n",
      "3941/3941 [==============================] - 117s 30ms/step - loss: 0.9892 - acc: 0.9931 - val_loss: 0.9282 - val_acc: 0.9936\n",
      "Epoch 23/100\n",
      "3941/3941 [==============================] - 117s 30ms/step - loss: 0.9875 - acc: 0.9931 - val_loss: 0.9304 - val_acc: 0.9911\n",
      "Epoch 24/100\n",
      "3941/3941 [==============================] - 117s 30ms/step - loss: 0.9843 - acc: 0.9928 - val_loss: 0.9275 - val_acc: 0.9936\n",
      "Epoch 25/100\n",
      "3941/3941 [==============================] - 115s 29ms/step - loss: 0.9829 - acc: 0.9926 - val_loss: 0.9274 - val_acc: 0.9929\n",
      "Epoch 26/100\n",
      "3941/3941 [==============================] - 115s 29ms/step - loss: 0.9790 - acc: 0.9930 - val_loss: 0.9334 - val_acc: 0.9903\n",
      "Epoch 27/100\n",
      "3941/3941 [==============================] - 116s 29ms/step - loss: 0.9804 - acc: 0.9926 - val_loss: 0.9286 - val_acc: 0.9928\n",
      "Epoch 28/100\n",
      "3941/3941 [==============================] - 114s 29ms/step - loss: 0.9744 - acc: 0.9934 - val_loss: 0.9236 - val_acc: 0.9927\n",
      "Epoch 29/100\n",
      "3941/3941 [==============================] - 114s 29ms/step - loss: 0.9749 - acc: 0.9933 - val_loss: 0.9219 - val_acc: 0.9932\n",
      "Epoch 30/100\n",
      "3941/3941 [==============================] - 114s 29ms/step - loss: 0.9714 - acc: 0.9935 - val_loss: 0.9240 - val_acc: 0.9924\n",
      "Epoch 31/100\n",
      "3941/3941 [==============================] - 114s 29ms/step - loss: 0.9685 - acc: 0.9935 - val_loss: 0.9289 - val_acc: 0.9923\n",
      "Epoch 32/100\n",
      "3941/3941 [==============================] - 114s 29ms/step - loss: 0.9660 - acc: 0.9933 - val_loss: 0.9260 - val_acc: 0.9902\n",
      "Epoch 33/100\n",
      "3941/3941 [==============================] - 118s 30ms/step - loss: 0.9667 - acc: 0.9934 - val_loss: 0.9275 - val_acc: 0.9916\n",
      "Epoch 34/100\n",
      "3941/3941 [==============================] - 148s 38ms/step - loss: 0.9668 - acc: 0.9931 - val_loss: 0.9290 - val_acc: 0.9892\n"
     ]
    }
   ],
   "source": [
    "\n",
    "history_bi = model_bi.fit([X_trainA,X_trainB,X_trainC,X_trainD,X_trainE,X_trainF,X_trainG,X_trainH,X_trainI,X_trainK,X_trainV,X_trainJ], y_train,\n",
    "                          class_weight={0: 1.,1:10},\n",
    "                    epochs=100,\n",
    "                    batch_size=32,\n",
    "                    validation_split=0.20,callbacks=[early_stopping],\n",
    "                    verbose=1)"
   ]
  },
  {
   "cell_type": "markdown",
   "metadata": {},
   "source": [
    "### Model saving or loading"
   ]
  },
  {
   "cell_type": "code",
   "execution_count": 40,
   "metadata": {},
   "outputs": [],
   "source": [
    "##save the model\n",
    "#model_bi.save_weights('./checkpoints/donor1_all_CMV_antigen_plus_db_CMV_balanced')\n",
    "\n",
    "#model_bi.load_weights('./checkpoints/donor1_all_CMV_antigen_plus_db_CMV_balanced')"
   ]
  },
  {
   "cell_type": "code",
   "execution_count": 41,
   "metadata": {},
   "outputs": [
    {
     "data": {
      "text/plain": [
       "13"
      ]
     },
     "execution_count": 41,
     "metadata": {},
     "output_type": "execute_result"
    }
   ],
   "source": [
    "X_trainJ.shape[1]"
   ]
  },
  {
   "cell_type": "markdown",
   "metadata": {},
   "source": [
    "### Calculate the optimal threshold for determing binding outcome based on the training ROC curve"
   ]
  },
  {
   "cell_type": "code",
   "execution_count": 42,
   "metadata": {},
   "outputs": [
    {
     "name": "stdout",
     "output_type": "stream",
     "text": [
      "0.0012337267\n"
     ]
    }
   ],
   "source": [
    "#calculate cutoff\n",
    "pred = model_bi.predict(x=[X_trainA,X_trainB,X_trainC,X_trainD,X_trainE,X_trainF,X_trainG,\n",
    "                           X_trainH,X_trainI,X_trainK,X_trainV,X_trainJ])\n",
    "df_pred=pd.DataFrame()\n",
    "df_pred['pred']=pred[:,0]\n",
    "df_pred['result']=y_train\n",
    "from sklearn.metrics import roc_curve, auc\n",
    "from sklearn.metrics import roc_auc_score\n",
    "fpr, tpr, thresholds= roc_curve(df_pred['result'],df_pred['pred'])\n",
    "roc_auc = auc(fpr, tpr)\n",
    "optimal_idx = np.argmin(np.sqrt(np.square(1-tpr) + np.square(fpr)))\n",
    "optimal_threshold = thresholds[optimal_idx]\n",
    "print(optimal_threshold)###generate the optimal cutoff based on the training data"
   ]
  },
  {
   "cell_type": "markdown",
   "metadata": {},
   "source": [
    "# Testing\n",
    "### Calculate the prediction outcome for the test dataset for donor 1"
   ]
  },
  {
   "cell_type": "code",
   "execution_count": 43,
   "metadata": {},
   "outputs": [],
   "source": [
    "### predict the binding outcome based on the testset\n",
    "pred = model_bi.predict(x=[X_valA,X_valB,X_valC,X_valD,X_valE,X_valF,X_valG,X_valH,\n",
    "                           X_valI,X_valK,X_valV,X_valJ])#[X_tcr,output_array,output_array_s])#\n"
   ]
  },
  {
   "cell_type": "code",
   "execution_count": 44,
   "metadata": {},
   "outputs": [],
   "source": [
    "del df_pred"
   ]
  },
  {
   "cell_type": "code",
   "execution_count": 45,
   "metadata": {},
   "outputs": [],
   "source": [
    "df_pred=pd.DataFrame()\n",
    "df_pred['pred']=pred[:,0]\n",
    "df_pred['result']=y_val"
   ]
  },
  {
   "cell_type": "code",
   "execution_count": 46,
   "metadata": {},
   "outputs": [
    {
     "data": {
      "text/plain": [
       "114.0"
      ]
     },
     "execution_count": 46,
     "metadata": {},
     "output_type": "execute_result"
    }
   ],
   "source": [
    "##examine how many postive events in the testset\n",
    "sum(df_pred['result'])\n"
   ]
  },
  {
   "cell_type": "markdown",
   "metadata": {},
   "source": [
    "### Density plot for prediction value for the true binding event and true non-binding event."
   ]
  },
  {
   "cell_type": "code",
   "execution_count": 47,
   "metadata": {},
   "outputs": [
    {
     "data": {
      "image/png": "[encoded data removed]",
      "text/plain": [
       "<Figure size 432x288 with 1 Axes>"
      ]
     },
     "metadata": {
      "needs_background": "light"
     },
     "output_type": "display_data"
    }
   ],
   "source": [
    "import numpy as np\n",
    "import pandas as pd\n",
    "import seaborn as sns\n",
    "import matplotlib.pyplot as plt\n",
    "from scipy import stats\n",
    "sns.distplot(df_pred['pred'][np.where(df_pred['result']==1)[0]]);\n",
    "sns.distplot(df_pred['pred'][np.where(df_pred['result']==0)[0]]);\n",
    "plt.legend(labels=['true binding','true non-binding'])\n",
    "\n",
    "plt.show()"
   ]
  },
  {
   "cell_type": "markdown",
   "metadata": {},
   "source": [
    "### ROC curve plot"
   ]
  },
  {
   "cell_type": "code",
   "execution_count": 48,
   "metadata": {},
   "outputs": [
    {
     "data": {
      "image/png": "[encoded data removed]",
      "text/plain": [
       "<Figure size 576x576 with 1 Axes>"
      ]
     },
     "metadata": {
      "needs_background": "light"
     },
     "output_type": "display_data"
    }
   ],
   "source": [
    "from sklearn.metrics import roc_curve, auc\n",
    "from sklearn.metrics import roc_auc_score\n",
    "plt.figure(figsize=(8,8))\n",
    "fpr, tpr, thresholds= roc_curve(df_pred['result'],df_pred['pred'])\n",
    "roc_auc = auc(fpr, tpr)\n",
    "plt.plot(fpr, tpr, color='darkorange',\n",
    "          label='ROC curve (area = %0.2f)' % roc_auc)\n",
    "plt.plot([0, 1], [0, 1], color='navy', linestyle='--', label='No Skill')\n",
    " \n",
    "plt.xticks(fontsize= 14) \n",
    "plt.yticks(fontsize= 14)\n",
    "plt.xlim([0.0, 1.0])\n",
    "plt.ylim([0.0, 1.05])\n",
    "plt.xlabel('False Positive Rate', fontsize=16)\n",
    "plt.ylabel('True Positive Rate', fontsize=16)\n",
    "plt.title('donor1: test data')\n",
    "plt.legend(loc=\"lower right\")\n",
    "plt.savefig('donor1_comb.png')\n",
    "plt.show()"
   ]
  },
  {
   "cell_type": "markdown",
   "metadata": {},
   "source": [
    "### Examine the performance for individual antigens"
   ]
  },
  {
   "cell_type": "code",
   "execution_count": 49,
   "metadata": {},
   "outputs": [
    {
     "name": "stderr",
     "output_type": "stream",
     "text": [
      "C:\\Users\\Anjin\\Anaconda3\\lib\\site-packages\\seaborn\\distributions.py:283: UserWarning: Data must have variance to compute a kernel density estimate.\n",
      "  warnings.warn(msg, UserWarning)\n"
     ]
    },
    {
     "data": {
      "image/png": "[encoded data removed]",
      "text/plain": [
       "<Figure size 1080x1080 with 9 Axes>"
      ]
     },
     "metadata": {
      "needs_background": "light"
     },
     "output_type": "display_data"
    }
   ],
   "source": [
    "import matplotlib.pyplot as plt\n",
    "antigen_train, antigen_test = train_test_split(input_seq_antigen,test_size=1/10, random_state=42)\n",
    "\n",
    "\n",
    "\n",
    "fig, ax = plt.subplots(3, 3, sharex='col', sharey='row', figsize=(15,15))\n",
    "\n",
    "counter=1\n",
    "for i in np.unique(antigen_test):\n",
    "\n",
    "    antigen_indices = [index for index, x in enumerate(antigen_test) if x == i]\n",
    "\n",
    "        \n",
    "    df_pred_pep=pd.DataFrame()\n",
    "    df_pred_pep['pred']=pred[antigen_indices,0]\n",
    "    df_pred_pep['result']=y_val[antigen_indices]\n",
    "    \n",
    "\n",
    "    fpr, tpr, thresholds= roc_curve(df_pred_pep['result'],df_pred_pep['pred'])\n",
    "    from sklearn.metrics import confusion_matrix\n",
    "    binary_pred=df_pred_pep['pred'].copy()\n",
    "    binary_pred[np.where(binary_pred<=optimal_threshold)[0]]=0\n",
    "    binary_pred[np.where(binary_pred>optimal_threshold)[0]]=1\n",
    "    tn, fp, fn, tp = confusion_matrix(df_pred_pep['result'], binary_pred).ravel()\n",
    "    sens_ = tp / (tp + fn)\n",
    "    acc_ = (tp + tn) / (tp + tn + fn + fp)\n",
    "    sp_ = tn / (tn + fp)\n",
    "    pr_ = tp / (tp + fp)\n",
    "\n",
    "    roc_auc = auc(fpr, tpr)\n",
    "    plt.subplot(3, 3, counter)\n",
    "    sns.distplot(df_pred_pep['pred'][np.where(df_pred_pep['result']==1)[0]]);\n",
    "    sns.distplot(df_pred_pep['pred'][np.where(df_pred_pep['result']==0)[0]]);\n",
    "    plt.legend(labels=['true binding','true non-binding'])\n",
    "\n",
    "\n",
    "    counter=counter+1\n",
    "plt.savefig('donor1test_sep.png')\n",
    "plt.show()\n",
    "        "
   ]
  },
  {
   "cell_type": "code",
   "execution_count": 50,
   "metadata": {},
   "outputs": [
    {
     "data": {
      "image/png": "[encoded data removed]",
      "text/plain": [
       "<Figure size 1080x1080 with 9 Axes>"
      ]
     },
     "metadata": {
      "needs_background": "light"
     },
     "output_type": "display_data"
    }
   ],
   "source": [
    "import matplotlib.pyplot as plt\n",
    "antigen_train, antigen_test = train_test_split(input_seq_antigen,test_size=1/10, random_state=42)\n",
    "\n",
    "\n",
    "\n",
    "fig, ax = plt.subplots(3, 3, sharex='col', sharey='row', figsize=(15,15))\n",
    "\n",
    "counter=1\n",
    "for i in np.unique(antigen_test):\n",
    "\n",
    "    antigen_indices = [index for index, x in enumerate(antigen_test) if x == i]\n",
    "\n",
    "        \n",
    "    df_pred_pep=pd.DataFrame()\n",
    "    df_pred_pep['pred']=pred[antigen_indices,0]\n",
    "    df_pred_pep['result']=y_val[antigen_indices]\n",
    "    \n",
    "\n",
    "    fpr, tpr, thresholds= roc_curve(df_pred_pep['result'],df_pred_pep['pred'])\n",
    "    from sklearn.metrics import confusion_matrix\n",
    "    binary_pred=df_pred_pep['pred'].copy()\n",
    "    binary_pred[np.where(binary_pred<=optimal_threshold)[0]]=0\n",
    "    binary_pred[np.where(binary_pred>optimal_threshold)[0]]=1\n",
    "    tn, fp, fn, tp = confusion_matrix(df_pred_pep['result'], binary_pred).ravel()\n",
    "    sens_ = tp / (tp + fn)\n",
    "    acc_ = (tp + tn) / (tp + tn + fn + fp)\n",
    "    sp_ = tn / (tn + fp)\n",
    "    pr_ = tp / (tp + fp)\n",
    "\n",
    "    roc_auc = auc(fpr, tpr)\n",
    "    plt.subplot(3, 3, counter)\n",
    "    plt.plot(fpr, tpr, color='darkorange',\n",
    "              label='ROC curve (area = %0.2f)' % roc_auc)\n",
    "    plt.text(0.7,0.15,[str(sum(df_pred_pep['result'])), \n",
    "               sum(df_pred_pep['pred']>optimal_threshold), len(df_pred_pep['pred'])])\n",
    "    plt.plot([0, 1], [0, 1], color='navy', linestyle='--')\n",
    "    plt.xlim([0.0, 1.0])\n",
    "    plt.ylim([0.0, 1.05])\n",
    "    plt.xlabel('False Positive Rate')\n",
    "    plt.ylabel('True Positive Rate')\n",
    "    plt.title([str(np.unique(antigen_test)[(counter-1)]),\n",
    "               'sp','{:.2f}'.format(sp_),\n",
    "               #'pr_','{:.2f}'.format(pr_),\n",
    "               'sens','{:.2f}'.format(sens_)])\n",
    "              #,'pr_','{:.2f}'.format(pr_)\n",
    "    plt.legend(loc=\"lower right\")\n",
    "    counter=counter+1\n",
    "plt.savefig('donor1test_sep.png')\n",
    "plt.show()\n",
    "        "
   ]
  },
  {
   "cell_type": "markdown",
   "metadata": {},
   "source": [
    "### use the previously determined optimal threshold to decide the binding outcome"
   ]
  },
  {
   "cell_type": "code",
   "execution_count": 51,
   "metadata": {},
   "outputs": [],
   "source": [
    "#optimal_threshold=0.9\n",
    "binary_pred=df_pred['pred'].copy()\n",
    "binary_pred[np.where(binary_pred<=optimal_threshold)[0]]=0\n",
    "binary_pred[np.where(binary_pred>optimal_threshold)[0]]=1"
   ]
  },
  {
   "cell_type": "markdown",
   "metadata": {},
   "source": [
    "## Precision recall curve"
   ]
  },
  {
   "cell_type": "code",
   "execution_count": 52,
   "metadata": {},
   "outputs": [
    {
     "name": "stdout",
     "output_type": "stream",
     "text": [
      "Logistic: f1=0.051\n"
     ]
    },
    {
     "data": {
      "image/png": "[encoded data removed]",
      "text/plain": [
       "<Figure size 432x288 with 1 Axes>"
      ]
     },
     "metadata": {
      "needs_background": "light"
     },
     "output_type": "display_data"
    }
   ],
   "source": [
    "\n",
    "# precision-recall curve and f1\n",
    "from sklearn.metrics import precision_recall_curve\n",
    "from sklearn.metrics import f1_score\n",
    "from sklearn.metrics import auc\n",
    "from matplotlib import pyplot\n",
    "\n",
    "lr_precision, lr_recall, _ = precision_recall_curve(df_pred['result'], df_pred['pred'])\n",
    "\n",
    "lr_f1 = f1_score(df_pred['result'], binary_pred)\n",
    "#summarize scores\n",
    "print('Logistic: f1=%.3f' % (lr_f1))\n",
    "# plot the precision-recall curves\n",
    "no_skill = len(df_pred['result'][df_pred['result']==1]) / len(df_pred['result'])\n",
    "pyplot.plot([0, 1], [no_skill, no_skill], linestyle='--', label='No Skill')\n",
    "pyplot.plot(lr_recall, lr_precision, marker='', label='LSTM model')\n",
    "# axis labels\n",
    "pyplot.xlabel('Recall')\n",
    "pyplot.ylabel('Precision')\n",
    "plt.plot(range(0, 1))\n",
    "# show the legend\n",
    "pyplot.legend()\n",
    "# show the plot\n",
    "pyplot.show()\n",
    "\n"
   ]
  },
  {
   "cell_type": "code",
   "execution_count": 53,
   "metadata": {},
   "outputs": [
    {
     "data": {
      "text/plain": [
       "array([[14538,  2860],\n",
       "       [   36,    78]], dtype=int64)"
      ]
     },
     "execution_count": 53,
     "metadata": {},
     "output_type": "execute_result"
    }
   ],
   "source": [
    "confusion_matrix(df_pred['result'], binary_pred)"
   ]
  },
  {
   "cell_type": "markdown",
   "metadata": {},
   "source": [
    "### calculate metrics"
   ]
  },
  {
   "cell_type": "code",
   "execution_count": 54,
   "metadata": {},
   "outputs": [
    {
     "name": "stdout",
     "output_type": "stream",
     "text": [
      "Error rate  :  0.165\n",
      "Accuracy  :  0.835\n",
      "Sensitivity  :  0.684\n",
      "Specificity  :  0.836\n",
      "False positive rate  :  0.164\n",
      "Precision  :  0.027\n",
      "F1 score  :  0.051\n"
     ]
    }
   ],
   "source": [
    "from sklearn.metrics import confusion_matrix\n",
    "tn, fp, fn, tp = confusion_matrix(df_pred['result'], binary_pred).ravel()\n",
    "# Error rate : \n",
    "err_rate = (fp + fn) / (tp + tn + fn + fp)\n",
    "print(\"Error rate  : \", round(err_rate,3))\n",
    "# Accuracy : \n",
    "acc_ = (tp + tn) / (tp + tn + fn + fp)\n",
    "print(\"Accuracy  : \", round(acc_,3))\n",
    "# Sensitivity/recall : \n",
    "sens_ = tp / (tp + fn)\n",
    "print(\"Sensitivity  : \", round(sens_,3))\n",
    "# Specificity \n",
    "sp_ = tn / (tn + fp)\n",
    "print(\"Specificity  : \", round(sp_,3))\n",
    "# False positive rate (FPR)\n",
    "FPR = fp / (tn + fp)\n",
    "print(\"False positive rate  : \", round(FPR,3))\n",
    "# Precision\n",
    "pr_ = tp / (tp + fp)\n",
    "print(\"Precision  : \", round(pr_,3))\n",
    "\n",
    "# F1 score\n",
    "f1_ = (2 * pr_ * sens_) / (pr_ + sens_)\n",
    "print(\"F1 score  : \", round(f1_,3))"
   ]
  },
  {
   "cell_type": "markdown",
   "metadata": {},
   "source": [
    "Calculate the percentage of positive binding events & the percentage of true positive binding events in the events predicted as positive"
   ]
  },
  {
   "cell_type": "code",
   "execution_count": 55,
   "metadata": {},
   "outputs": [
    {
     "name": "stdout",
     "output_type": "stream",
     "text": [
      "positive binding percentage: 0.00709811154827915\n",
      "positive binding percentage within events predicted as positive: 0.02654867256637168\n"
     ]
    }
   ],
   "source": [
    "print('positive binding percentage:',sum(output)/len(output))\n",
    "print('positive binding percentage within events predicted as positive:',tp/(tp+fp))"
   ]
  },
  {
   "cell_type": "code",
   "execution_count": null,
   "metadata": {},
   "outputs": [],
   "source": []
  },
  {
   "cell_type": "code",
   "execution_count": null,
   "metadata": {},
   "outputs": [],
   "source": []
  },
  {
   "cell_type": "code",
   "execution_count": null,
   "metadata": {},
   "outputs": [],
   "source": []
  }
 ],
 "metadata": {
  "kernelspec": {
   "display_name": "Python 3",
   "language": "python",
   "name": "python3"
  },
  "language_info": {
   "codemirror_mode": {
    "name": "ipython",
    "version": 3
   },
   "file_extension": ".py",
   "mimetype": "text/x-python",
   "name": "python",
   "nbconvert_exporter": "python",
   "pygments_lexer": "ipython3",
   "version": "3.7.7"
  }
 },
 "nbformat": 4,
 "nbformat_minor": 2
}
