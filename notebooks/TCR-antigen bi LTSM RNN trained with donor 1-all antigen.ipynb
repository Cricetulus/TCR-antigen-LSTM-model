{
 "cells": [
  {
   "cell_type": "markdown",
   "metadata": {},
   "source": [
    "Please refer to TCR-antigen bi LTSM RNN trained with donor 1 CMV final.ipynb for detailed code explanation.  Most code in this file is copied and reused from the training file."
   ]
  },
  {
   "cell_type": "code",
   "execution_count": 1,
   "metadata": {},
   "outputs": [],
   "source": [
    "from __future__ import print_function\n",
    "import sys\n",
    "import os\n",
    "import time\n",
    "\n",
    "import math\n",
    "import numpy as np\n",
    "import tensorflow as tf\n",
    "\n",
    "###3 blosum related functions downloaded from https://www.biorxiv.org/content/10.1101/433706v1.full\n",
    "\n",
    "def read_blosum_MN(filename):\n",
    "    '''\n",
    "    read in BLOSUM matrix\n",
    "    parameters:\n",
    "        - filename : file containing BLOSUM matrix\n",
    "    returns:\n",
    "        - blosum : dictionnary AA -> blosum encoding (as list)\n",
    "    '''\n",
    "\n",
    "    # read BLOSUM matrix:\n",
    "    blosumfile = open(filename, \"r\")\n",
    "    blosum = {}\n",
    "    B_idx = 99\n",
    "    Z_idx = 99\n",
    "    star_idx = 99\n",
    "\n",
    "    for l in blosumfile:\n",
    "        l = l.strip()\n",
    "\n",
    "        if l[0] != '#':\n",
    "            l= list(filter(None,l.strip().split(\" \")))\n",
    "\n",
    "            if (l[0] == 'A') and (B_idx==99):\n",
    "                B_idx = l.index('B')\n",
    "                Z_idx = l.index('Z')\n",
    "                star_idx = l.index('*')\n",
    "            else:\n",
    "                aa = str(l[0])\n",
    "                if (aa != 'B') &  (aa != 'Z') & (aa != '*'):\n",
    "                    tmp = l[1:len(l)]\n",
    "                    # tmp = [float(i) for i in tmp]\n",
    "                    # get rid of BJZ*:\n",
    "                    tmp2 = []\n",
    "                    for i in range(0, len(tmp)):\n",
    "                        if (i != B_idx) &  (i != Z_idx) & (i != star_idx):\n",
    "                            tmp2.append(float(tmp[i]))\n",
    "\n",
    "                    #save in BLOSUM matrix\n",
    "                    #tmp2 = [i * 0.2 for i in tmp2] #scale (divide by 5)\n",
    "                    blosum[aa]=tmp2\n",
    "    blosumfile.close()\n",
    "    blosum[\"B\"]=np.ones(21)*0.1\n",
    "    blosum[\"E\"]=np.ones(21)*(-0.1)\n",
    "    return(blosum)\n",
    "\n",
    "\n",
    "def enc_list_bl(aa_seqs, blosum):\n",
    "    '''\n",
    "    blosum encoding of a list of amino acid sequences with padding\n",
    "    parameters:\n",
    "        - aa_seqs : list with AA sequences\n",
    "        - blosum : dictionnary: key= AA, value= blosum encoding\n",
    "    returns:\n",
    "        - enc_aa_seq : list of np.ndarrays containing padded, encoded amino acid sequences\n",
    "    '''\n",
    "    \n",
    "\n",
    "    # encode sequences:\n",
    "    sequences=[]\n",
    "    for seq in aa_seqs:\n",
    "        e_seq=np.zeros((len(seq),len(blosum[\"A\"])))\n",
    "        count=0\n",
    "        for aa in seq:\n",
    "            if aa in blosum:\n",
    "                e_seq[count]=blosum[aa]\n",
    "                count+=1\n",
    "            else:\n",
    "                sys.stderr.write(\"Unknown amino acid in peptides: \"+ aa +\", encoding aborted!\\n\")\n",
    "                sys.exit(2)\n",
    "        sequences.append(e_seq)\n",
    "\n",
    "    # pad sequences:\n",
    "    max_seq_len = 11#max([len(x) for x in aa_seqs])\n",
    "    n_seqs = len(aa_seqs)\n",
    "    n_features = sequences[0].shape[1]\n",
    "\n",
    "    enc_aa_seq = np.zeros((n_seqs, max_seq_len, n_features))\n",
    "    for i in range(0,n_seqs):\n",
    "        enc_aa_seq[i, :sequences[i].shape[0], :n_features] = sequences[i]\n",
    "\n",
    "    return enc_aa_seq\n",
    "\n",
    "def enc_list_bl_start_stop(aa_seqs, blosum):\n",
    "    '''\n",
    "    blosum encoding of a list of amino acid sequences with padding\n",
    "    parameters:\n",
    "        - aa_seqs : list with AA sequences\n",
    "        - blosum : dictionnary: key= AA, value= blosum encoding\n",
    "    returns:\n",
    "        - enc_aa_seq : list of np.ndarrays containing padded, encoded amino acid sequences\n",
    "    '''\n",
    "\n",
    "    # encode sequences:\n",
    "    sequences=[]\n",
    "    for seq in aa_seqs:\n",
    "        # replace O (pyrrolysine) with lysine (K):\n",
    "        #seq.replace(\"0\", \"K\")\n",
    "        e_seq=np.zeros((len(seq)+2,len(blosum[\"A\"])))\n",
    "        # start encoding:\n",
    "        e_seq[0]=np.ones(len(blosum[\"A\"]))*0.1\n",
    "        # sequence encoding:\n",
    "        count=1\n",
    "        for aa in seq:\n",
    "            if aa == \"O\":\n",
    "                aa =\"K\"\n",
    "            if aa in blosum:\n",
    "                e_seq[count]=blosum[aa]\n",
    "                count+=1\n",
    "            else:\n",
    "                sys.stderr.write(\"Unknown amino acid: \"+ aa +\", encoding aborted!\\n\")\n",
    "                sys.exit(2)\n",
    "        # end encoding:\n",
    "        e_seq[count]=np.ones(len(blosum[\"A\"]))*(-0.1)\n",
    "        # save:\n",
    "        sequences.append(e_seq)\n",
    "\n",
    "    # pad sequences:\n",
    "    max_seq_len =28# max([len(x) for x in aa_seqs]) +2\n",
    "    n_seqs = len(aa_seqs)\n",
    "    n_features = sequences[0].shape[1]\n",
    "\n",
    "    enc_aa_seq = np.zeros((n_seqs, max_seq_len, n_features))\n",
    "    for i in range(0,n_seqs):\n",
    "        enc_aa_seq[i, :sequences[i].shape[0], :n_features] = sequences[i]\n",
    "\n",
    "    return enc_aa_seq\n",
    "\n"
   ]
  },
  {
   "cell_type": "code",
   "execution_count": 2,
   "metadata": {},
   "outputs": [],
   "source": [
    "##Read blosum file and generate blosum dictionary\n",
    "blosumfile='C:/Users/Anjin/Downloads/blosum.txt'\n",
    "blosum = read_blosum_MN(blosumfile)"
   ]
  },
  {
   "cell_type": "code",
   "execution_count": 3,
   "metadata": {},
   "outputs": [],
   "source": [
    "##To recover the electronic properties of the amino acid residues, I groups the aa with similar electronic properties together\n",
    "def electro_aa(argument):\n",
    "    switcher = {\n",
    "        \"R\": 5,\n",
    "        \"H\": 5,\n",
    "        \"K\": 5,\n",
    "        \"D\": 1,\n",
    "        \"E\": 1,\n",
    "        \"S\": 2,\n",
    "        \"T\": 2,\n",
    "        \"N\": 2,\n",
    "        \"Q\": 2,\n",
    "        \"C\": 3,\n",
    "        \"U\": 3,\n",
    "        \"G\": 3,\n",
    "        \"P\": 3,\n",
    "        \"A\": 4,\n",
    "        \"I\": 4,\n",
    "        \"L\": 4,\n",
    "        \"M\": 4,\n",
    "        \"F\": 4,\n",
    "        \"W\": 4,\n",
    "        \"Y\": 4,\n",
    "        \"V\": 4,\n",
    "    }\n",
    "    return switcher.get(argument, \"Invalid\")\n"
   ]
  },
  {
   "cell_type": "code",
   "execution_count": 4,
   "metadata": {},
   "outputs": [],
   "source": [
    "## to recover the physical properties/residue size, I translate the aa into their molecular mass.\n",
    "def size_aa(argument):\n",
    "    switcher = {\n",
    "        \"R\": 174.2/204.23,\n",
    "        \"H\": 155.16/204.23,\n",
    "        \"K\": 146.19/204.23,\n",
    "        \"D\": 133.11/204.23,\n",
    "        \"E\": 147.13/204.23,\n",
    "        \"S\": 105.09/204.23,\n",
    "        \"T\": 119.12/204.23,\n",
    "        \"N\": 132.12/204.23,\n",
    "        \"Q\": 146.15/204.23,\n",
    "        \"C\": 121.16/204.23,\n",
    "        \"U\": 139.11/204.23,\n",
    "        \"G\": 75.07/204.23,\n",
    "        \"P\": 115.13/204.23,\n",
    "        \"A\": 89.10/204.23,\n",
    "        \"I\": 131.18/204.23,\n",
    "        \"L\": 131.18/204.23,\n",
    "        \"M\": 149.21/204.23,\n",
    "        \"F\": 165.19/204.23,\n",
    "        \"W\": 204.23/204.23,\n",
    "        \"Y\": 181.19/204.23,\n",
    "        \"V\": 117.15/204.23,\n",
    "    }\n",
    "    return switcher.get(argument, \"Invalid\")"
   ]
  },
  {
   "cell_type": "code",
   "execution_count": 5,
   "metadata": {},
   "outputs": [],
   "source": [
    "import pandas as pd\n",
    "import numpy as np\n",
    "df=pd.read_csv('C:/Users/Anjin/Downloads/vdj_v1_hs_aggregated_donor1_binarized_matrix.csv')\n",
    "##read the TCR & antigen binding data from the first donor\n",
    "\n"
   ]
  },
  {
   "cell_type": "markdown",
   "metadata": {},
   "source": [
    "### All antigen have been used in this script"
   ]
  },
  {
   "cell_type": "code",
   "execution_count": 6,
   "metadata": {},
   "outputs": [
    {
     "data": {
      "text/plain": [
       "[68,\n",
       " 69,\n",
       " 70,\n",
       " 71,\n",
       " 72,\n",
       " 73,\n",
       " 74,\n",
       " 75,\n",
       " 76,\n",
       " 77,\n",
       " 78,\n",
       " 79,\n",
       " 80,\n",
       " 81,\n",
       " 82,\n",
       " 83,\n",
       " 84,\n",
       " 85,\n",
       " 86,\n",
       " 87,\n",
       " 88,\n",
       " 89,\n",
       " 90,\n",
       " 91,\n",
       " 92,\n",
       " 93,\n",
       " 94,\n",
       " 95,\n",
       " 96,\n",
       " 97,\n",
       " 98,\n",
       " 99,\n",
       " 100,\n",
       " 101,\n",
       " 102,\n",
       " 103,\n",
       " 104,\n",
       " 105,\n",
       " 106,\n",
       " 107,\n",
       " 108,\n",
       " 109,\n",
       " 110,\n",
       " 111,\n",
       " 112,\n",
       " 113,\n",
       " 114,\n",
       " 115,\n",
       " 116,\n",
       " 117]"
      ]
     },
     "execution_count": 6,
     "metadata": {},
     "output_type": "execute_result"
    }
   ],
   "source": [
    "##only the CMV related antigens were used here. \n",
    "CMV_seq=[]\n",
    "for idx, i in enumerate(df.columns):\n",
    "    if '_binder' in i:\n",
    "        CMV_seq.append(idx)#Generate the column numbers of CMV antigen \n",
    "#CMV_seq=[range]\n",
    "#CMV_seq=[* range(86,98,1)]\n",
    "#CMV_seq"
   ]
  },
  {
   "cell_type": "code",
   "execution_count": 7,
   "metadata": {},
   "outputs": [],
   "source": [
    "##Get antigen sequences\n",
    "Antigen=[]\n",
    "for i in df.columns:\n",
    "    try:\n",
    "        Antigen.append(i.split('_')[1])\n",
    "    except:\n",
    "        Antigen.append('')#  list of antigen sequences used\n",
    "        \n",
    "##get TCR beta chain sequences and delete rows without TCR beta chain information.\n",
    "TRB=[]\n",
    "delete_seq=[]\n",
    "for counter,i in enumerate(df['cell_clono_cdr3_aa']):\n",
    "\n",
    "    temp=i.split(';')\n",
    "    TRB1=\"\"\n",
    "    for text in temp:\n",
    "        if 'TRB' in text:\n",
    "            TRB1=text.split(':')[1]\n",
    "    \n",
    "    if TRB1==\"\":\n",
    "        delete_seq.append(counter)\n",
    "    else:\n",
    "            TRB.append(TRB1)# list of TCR beta chain sequences           \n",
    "##delete rows with no TRB\n",
    "df=df.drop(delete_seq, axis=0)#get rid of rows with no TRB sequences\n",
    "df.reset_index(drop=True, inplace=True)\n",
    "u, indices = np.unique(TRB, return_index=True)\n",
    "TRB=np.array(TRB)[np.asarray(np.sort(indices))]\n",
    "df=df.iloc[np.asarray(np.sort(indices)),:]\n",
    "df.reset_index(drop=True, inplace=True)\n"
   ]
  },
  {
   "cell_type": "code",
   "execution_count": 8,
   "metadata": {},
   "outputs": [],
   "source": [
    "##pair the TCR beta chain sequences with the antigen sequences and the binding outcome; 1: binding;0 non-binding\n",
    "\n",
    "counter=0\n",
    "input_seq_trb=[]\n",
    "input_seq_antigen=[]\n",
    "output=[]\n",
    "\n",
    "for idu,u in enumerate(TRB):\n",
    "    for idi in CMV_seq:\n",
    "        i=Antigen[idi]\n",
    "        input_seq_trb.append(u)\n",
    "        input_seq_antigen.append(i)\n",
    "\n",
    "        output.append(df.iloc[idu,idi].astype(float))# containing the binding outcome for each pair of TRB and antigen\n"
   ]
  },
  {
   "cell_type": "code",
   "execution_count": 9,
   "metadata": {},
   "outputs": [
    {
     "name": "stdout",
     "output_type": "stream",
     "text": [
      "number of pairs: 1322450\n",
      "total number of positive binding events: 2563.0\n",
      "outcome type in the data: [0. 1.]\n"
     ]
    }
   ],
   "source": [
    "#sanity check\n",
    "print('number of pairs:',len(output))\n",
    "print('total number of positive binding events:',sum(output))\n",
    "print('outcome type in the data:',np.unique(output))"
   ]
  },
  {
   "cell_type": "code",
   "execution_count": 10,
   "metadata": {},
   "outputs": [],
   "source": [
    "#change aa sequences into blosum encoding\n",
    "X_tcr=enc_list_bl_start_stop(input_seq_trb, blosum)\n",
    "X_antigen=enc_list_bl(input_seq_antigen, blosum)"
   ]
  },
  {
   "cell_type": "code",
   "execution_count": 11,
   "metadata": {},
   "outputs": [],
   "source": [
    "#change aa sequences into electronic encoding or residue size encoding\n",
    "einput_seq_trb=np.empty(shape=X_tcr.shape[:2])\n",
    "for idu, u in enumerate(input_seq_trb):\n",
    "    string=str()\n",
    "    for idx, i in enumerate( u):\n",
    "        einput_seq_trb[idu,idx]=electro_aa(i)#electronic encoding; return a list of sequences of electronic property types\n",
    "        \n",
    "sinput_seq_trb=np.empty(shape=X_tcr.shape[:2])\n",
    "for idu, u in enumerate(input_seq_trb):\n",
    "    string=str()\n",
    "    for idx, i in enumerate( u):\n",
    "        sinput_seq_trb[idu,idx]=size_aa(i)#residue size encoding encoding; return a list of sequences of molecular weights\n",
    "        \n",
    "einput_seq_antigen=np.empty(shape=X_antigen.shape[:2])\n",
    "for idu, u in enumerate(input_seq_antigen):\n",
    "    string=str()\n",
    "    for idx, i in enumerate( u):\n",
    "        einput_seq_antigen[idu,idx]=electro_aa(i)#electronic encoding; return a list of sequences of electronic property types\n",
    "        \n",
    "sinput_seq_antigen=np.empty(shape=X_antigen.shape[:2])\n",
    "for idu, u in enumerate(input_seq_antigen):\n",
    "    string=str()\n",
    "    for idx, i in enumerate( u):\n",
    "        sinput_seq_antigen[idu,idx]=size_aa(i)#residue size encoding encoding; return a list of sequences of molecular weights\n",
    "        \n",
    "        "
   ]
  },
  {
   "cell_type": "code",
   "execution_count": 12,
   "metadata": {},
   "outputs": [
    {
     "name": "stdout",
     "output_type": "stream",
     "text": [
      "(1322450, 28, 21) (1322450, 11, 21) (1322450, 28) (1322450, 28) (1322450, 11) (1322450, 11)\n"
     ]
    }
   ],
   "source": [
    "print(X_tcr.shape,\n",
    "      X_antigen.shape,\n",
    "     einput_seq_trb.shape,\n",
    "     sinput_seq_trb.shape,\n",
    "     einput_seq_antigen.shape,\n",
    "     sinput_seq_antigen.shape)\n",
    "      "
   ]
  },
  {
   "cell_type": "code",
   "execution_count": 13,
   "metadata": {},
   "outputs": [],
   "source": [
    "##embedding the electronic sequences and residue size sequences\n",
    "from tensorflow import keras\n",
    "from tensorflow.keras import layers\n",
    "model = tf.keras.Sequential()\n",
    "model.add(tf.keras.layers.Embedding(6, 5, input_length=28))\n",
    "# the model will take as input an integer matrix of size (batch,\n",
    "# input_length).\n",
    "# the largest integer (i.e. word index) in the input should be no larger\n",
    "# than 999 (vocabulary size).\n",
    "# now model.output_shape == (None, 10, 64), where None is the batch\n",
    "# dimension.\n",
    "\n",
    "model.compile('rmsprop', 'mse')\n",
    "output_array = model.predict(einput_seq_trb)\n",
    "#output_array_s = model.predict(sinput_seq_trb)\n",
    "\n",
    "from tensorflow import keras\n",
    "from tensorflow.keras import layers\n",
    "model2 = tf.keras.Sequential()\n",
    "model2.add(tf.keras.layers.Embedding(6, 5, input_length=11))\n",
    "output_array_antigen = model2.predict(einput_seq_antigen)\n",
    "#output_array_s_antigen = model2.predict(sinput_seq_antigen)\n",
    "\n"
   ]
  },
  {
   "cell_type": "code",
   "execution_count": 15,
   "metadata": {},
   "outputs": [
    {
     "name": "stdout",
     "output_type": "stream",
     "text": [
      "(1322450, 28, 5) (1322450, 11, 5)\n"
     ]
    }
   ],
   "source": [
    "print(output_array.shape,output_array_antigen.shape)"
   ]
  },
  {
   "cell_type": "code",
   "execution_count": 16,
   "metadata": {},
   "outputs": [],
   "source": [
    "##establish the LSTM model\n",
    "import tensorflow as tf\n",
    "import numpy as np\n",
    "\n",
    "tf.__version__\n",
    "tf.random.set_seed(42)\n",
    "inputA = tf.keras.Input(shape=(28,21,))\n",
    "x=tf.keras.layers.Bidirectional(tf.keras.layers.LSTM(32,return_sequences=False,recurrent_dropout=0))(inputA)\n",
    "#x=tf.keras.layers.Dense(5, activation=tf.nn.relu)(x)\n",
    "x = tf.keras.Model(inputs=inputA, outputs=x)\n",
    "\n",
    "inputB = tf.keras.Input(shape=(28,5,))\n",
    "y=tf.keras.layers.Bidirectional(tf.keras.layers.LSTM(32,return_sequences=False,recurrent_dropout=0))(inputB)\n",
    "#y=tf.keras.layers.Dense(5, activation=tf.nn.relu)(y)\n",
    "y = tf.keras.Model(inputs=inputB, outputs=y)\n",
    "\n",
    "inputC = tf.keras.Input(shape=(28,1,))\n",
    "ys=tf.keras.layers.Bidirectional(tf.keras.layers.LSTM(32,return_sequences=False,recurrent_dropout=0))(inputC)\n",
    "#y=tf.keras.layers.Dense(5, activation=tf.nn.relu)(y)\n",
    "ys = tf.keras.Model(inputs=inputC, outputs=ys)\n",
    "\n",
    "inputD = tf.keras.Input(shape=(11,21,))\n",
    "ya=tf.keras.layers.Bidirectional(tf.keras.layers.LSTM(32,return_sequences=False,recurrent_dropout=0))(inputD)\n",
    "#y=tf.keras.layers.Dense(5, activation=tf.nn.relu)(y)\n",
    "ya = tf.keras.Model(inputs=inputD, outputs=ya)\n",
    "\n",
    "inputE = tf.keras.Input(shape=(11,5,))\n",
    "yae=tf.keras.layers.Bidirectional(tf.keras.layers.LSTM(32,return_sequences=False,recurrent_dropout=0))(inputE)\n",
    "#y=tf.keras.layers.Dense(5, activation=tf.nn.relu)(y)\n",
    "yae = tf.keras.Model(inputs=inputE, outputs=yae)\n",
    "\n",
    "inputF = tf.keras.Input(shape=(11,1,))\n",
    "yas=tf.keras.layers.Bidirectional(tf.keras.layers.LSTM(32,return_sequences=False,recurrent_dropout=0))(inputF)\n",
    "#y=tf.keras.layers.Dense(5, activation=tf.nn.relu)(y)\n",
    "yas = tf.keras.Model(inputs=inputF, outputs=yas)\n",
    "\n",
    "\n",
    "combined1 = tf.keras.layers.concatenate([x.output, ya.output])\n",
    "combined2 = tf.keras.layers.concatenate([y.output,yae.output])\n",
    "combined3 = tf.keras.layers.concatenate([ys.output,yas.output])\n",
    "z1=tf.keras.layers.Dense(20, activation=tf.nn.sigmoid)(combined1)\n",
    "z2=tf.keras.layers.Dense(20, activation=tf.nn.sigmoid)(combined2)\n",
    "z3=tf.keras.layers.Dense(20, activation=tf.nn.sigmoid)(combined3)\n",
    "combined = tf.keras.layers.concatenate([z1,z2,z3])#,\n",
    "#z=tf.keras.layers.Dropout(0.3)(z)\n",
    "z=tf.keras.layers.Dense(1, activation=tf.nn.sigmoid)(combined)#\n",
    "z=tf.keras.layers.Dropout(0.1)(z)\n",
    "model_bi = tf.keras.Model(inputs=[x.input, y.input, ys.input,ya.input,yae.input,yas.input], outputs=z)\n",
    "\n",
    "model_bi.compile(optimizer='adam',\n",
    "              loss='binary_crossentropy',\n",
    "              metrics=['acc'])\n",
    "early_stopping = tf.keras.callbacks.EarlyStopping(patience=3)"
   ]
  },
  {
   "cell_type": "code",
   "execution_count": 17,
   "metadata": {},
   "outputs": [
    {
     "name": "stdout",
     "output_type": "stream",
     "text": [
      "Model: \"model_6\"\n",
      "__________________________________________________________________________________________________\n",
      "Layer (type)                    Output Shape         Param #     Connected to                     \n",
      "==================================================================================================\n",
      "input_1 (InputLayer)            [(None, 28, 21)]     0                                            \n",
      "__________________________________________________________________________________________________\n",
      "input_4 (InputLayer)            [(None, 11, 21)]     0                                            \n",
      "__________________________________________________________________________________________________\n",
      "input_2 (InputLayer)            [(None, 28, 5)]      0                                            \n",
      "__________________________________________________________________________________________________\n",
      "input_5 (InputLayer)            [(None, 11, 5)]      0                                            \n",
      "__________________________________________________________________________________________________\n",
      "input_3 (InputLayer)            [(None, 28, 1)]      0                                            \n",
      "__________________________________________________________________________________________________\n",
      "input_6 (InputLayer)            [(None, 11, 1)]      0                                            \n",
      "__________________________________________________________________________________________________\n",
      "bidirectional (Bidirectional)   (None, 64)           13824       input_1[0][0]                    \n",
      "__________________________________________________________________________________________________\n",
      "bidirectional_3 (Bidirectional) (None, 64)           13824       input_4[0][0]                    \n",
      "__________________________________________________________________________________________________\n",
      "bidirectional_1 (Bidirectional) (None, 64)           9728        input_2[0][0]                    \n",
      "__________________________________________________________________________________________________\n",
      "bidirectional_4 (Bidirectional) (None, 64)           9728        input_5[0][0]                    \n",
      "__________________________________________________________________________________________________\n",
      "bidirectional_2 (Bidirectional) (None, 64)           8704        input_3[0][0]                    \n",
      "__________________________________________________________________________________________________\n",
      "bidirectional_5 (Bidirectional) (None, 64)           8704        input_6[0][0]                    \n",
      "__________________________________________________________________________________________________\n",
      "concatenate (Concatenate)       (None, 128)          0           bidirectional[0][0]              \n",
      "                                                                 bidirectional_3[0][0]            \n",
      "__________________________________________________________________________________________________\n",
      "concatenate_1 (Concatenate)     (None, 128)          0           bidirectional_1[0][0]            \n",
      "                                                                 bidirectional_4[0][0]            \n",
      "__________________________________________________________________________________________________\n",
      "concatenate_2 (Concatenate)     (None, 128)          0           bidirectional_2[0][0]            \n",
      "                                                                 bidirectional_5[0][0]            \n",
      "__________________________________________________________________________________________________\n",
      "dense (Dense)                   (None, 20)           2580        concatenate[0][0]                \n",
      "__________________________________________________________________________________________________\n",
      "dense_1 (Dense)                 (None, 20)           2580        concatenate_1[0][0]              \n",
      "__________________________________________________________________________________________________\n",
      "dense_2 (Dense)                 (None, 20)           2580        concatenate_2[0][0]              \n",
      "__________________________________________________________________________________________________\n",
      "concatenate_3 (Concatenate)     (None, 60)           0           dense[0][0]                      \n",
      "                                                                 dense_1[0][0]                    \n",
      "                                                                 dense_2[0][0]                    \n",
      "__________________________________________________________________________________________________\n",
      "dense_3 (Dense)                 (None, 1)            61          concatenate_3[0][0]              \n",
      "__________________________________________________________________________________________________\n",
      "dropout (Dropout)               (None, 1)            0           dense_3[0][0]                    \n",
      "==================================================================================================\n",
      "Total params: 72,313\n",
      "Trainable params: 72,313\n",
      "Non-trainable params: 0\n",
      "__________________________________________________________________________________________________\n"
     ]
    }
   ],
   "source": [
    "model_bi.summary()"
   ]
  },
  {
   "cell_type": "code",
   "execution_count": 18,
   "metadata": {},
   "outputs": [],
   "source": [
    "from sklearn.model_selection import train_test_split\n",
    "\n",
    "X_trainA, X_valA, y_trainA, y_valA = train_test_split(X_tcr,np.asarray(output).reshape(len(output),1),  \n",
    "    test_size=1/45, random_state=42)\n",
    "X_trainB, X_valB, y_trainB, y_valB = train_test_split(output_array, np.asarray(output).reshape(len(output),1),  \n",
    "    test_size=1/45, random_state=42)\n",
    "X_trainC, X_valC, y_trainC, y_valC = train_test_split(sinput_seq_trb[..., np.newaxis], np.asarray(output).reshape(len(output),1),  \n",
    "    test_size=1/45, random_state=42)#,output_array_s\n",
    "X_trainD, X_valD, y_trainD, y_valD = train_test_split(X_antigen, np.asarray(output).reshape(len(output),1),  \n",
    "    test_size=1/45, random_state=42)\n",
    "X_trainE, X_valE, y_trainE, y_valE = train_test_split(output_array_antigen, np.asarray(output).reshape(len(output),1),  \n",
    "    test_size=1/45, random_state=42)\n",
    "X_trainF, X_valF, y_train, y_val = train_test_split(sinput_seq_antigen[..., np.newaxis], np.asarray(output).reshape(len(output),1),  \n",
    "    test_size=1/45, random_state=42)#output_array_s_antigen,"
   ]
  },
  {
   "cell_type": "code",
   "execution_count": 19,
   "metadata": {},
   "outputs": [
    {
     "name": "stdout",
     "output_type": "stream",
     "text": [
      "(1293062, 28, 21) (1293062, 28, 5) (1293062, 28, 1) (1293062, 11, 21) (1293062, 11, 5) (1293062, 11, 1)\n",
      "(29388, 28, 21) (29388, 28, 5) (29388, 28, 1) (29388, 11, 21) (29388, 11, 5) (29388, 11, 1)\n",
      "(1293062, 1) (29388, 1)\n"
     ]
    }
   ],
   "source": [
    "print(X_trainA.shape,X_trainB.shape,X_trainC.shape,X_trainD.shape,X_trainE.shape,X_trainF.shape)\n",
    "print(X_valA.shape,X_valB.shape,X_valC.shape,X_valD.shape,X_valE.shape,X_valF.shape)\n",
    "print(y_train.shape,y_val.shape)"
   ]
  },
  {
   "cell_type": "code",
   "execution_count": 20,
   "metadata": {},
   "outputs": [
    {
     "name": "stdout",
     "output_type": "stream",
     "text": [
      "[0.]\n",
      "[0.]\n",
      "[0.]\n",
      "[0.]\n",
      "[0.]\n"
     ]
    }
   ],
   "source": [
    "##examine the splits are the same\n",
    "print(sum(abs(y_train-y_trainA)))\n",
    "print(sum(abs(y_train-y_trainB)))\n",
    "print(sum(abs(y_train-y_trainC)))\n",
    "print(sum(abs(y_train-y_trainD)))\n",
    "print(sum(abs(y_train-y_trainE)))"
   ]
  },
  {
   "cell_type": "code",
   "execution_count": 30,
   "metadata": {},
   "outputs": [
    {
     "name": "stdout",
     "output_type": "stream",
     "text": [
      "Train on 1034449 samples, validate on 258613 samples\n",
      "1034449/1034449 [==============================] - 820s 792us/sample - loss: 0.0118 - acc: 0.9981 - val_loss: 0.0100 - val_acc: 0.9980\n"
     ]
    }
   ],
   "source": [
    "history_bi = model_bi.fit([X_trainA,X_trainB,X_trainC,X_trainD,X_trainE,X_trainF], y_train,\n",
    "                    epochs=1,\n",
    "                    batch_size=32,\n",
    "                    validation_split=0.20,callbacks=[early_stopping],\n",
    "                    verbose=1)"
   ]
  },
  {
   "cell_type": "code",
   "execution_count": 21,
   "metadata": {},
   "outputs": [
    {
     "data": {
      "text/plain": [
       "<tensorflow.python.training.tracking.util.CheckpointLoadStatus at 0x1aececbc188>"
      ]
     },
     "execution_count": 21,
     "metadata": {},
     "output_type": "execute_result"
    }
   ],
   "source": [
    "##save the model\n",
    "#model_bi.save_weights('./checkpoints/LTSM_with_electro_size_donor1_no_repetition_all_CMV_antigen_complex_form_trained_with_all_data')\n",
    "\n",
    "model_bi.load_weights('./checkpoints/LTSM_with_electro_size_donor1_no_repetition_all_CMV_antigen_complex_form_trained_with_all_data')"
   ]
  },
  {
   "cell_type": "code",
   "execution_count": 22,
   "metadata": {},
   "outputs": [
    {
     "name": "stdout",
     "output_type": "stream",
     "text": [
      "0.0019333959\n"
     ]
    }
   ],
   "source": [
    "#calculate cutoff\n",
    "pred = model_bi.predict(x=[X_trainA,X_trainB,X_trainC,X_trainD,X_trainE,X_trainF])\n",
    "df_pred=pd.DataFrame()\n",
    "df_pred['pred']=pred[:,0]\n",
    "df_pred['result']=y_train\n",
    "from sklearn.metrics import roc_curve, auc\n",
    "from sklearn.metrics import roc_auc_score\n",
    "fpr, tpr, thresholds= roc_curve(df_pred['result'],df_pred['pred'])\n",
    "roc_auc = auc(fpr, tpr)\n",
    "optimal_idx = np.argmin(np.sqrt(np.square(1-tpr) + np.square(fpr)))\n",
    "optimal_threshold = thresholds[optimal_idx]\n",
    "print(optimal_threshold)###generate the optimal cutoff based on the training data"
   ]
  },
  {
   "cell_type": "code",
   "execution_count": 23,
   "metadata": {},
   "outputs": [],
   "source": [
    "### predict the binding outcome based on the testset\n",
    "pred = model_bi.predict(x=[X_valA,X_valB,X_valC,X_valD,X_valE,X_valF])#[X_tcr,output_array,output_array_s])#\n",
    "df_pred=pd.DataFrame()\n",
    "df_pred['pred']=pred[:,0]\n",
    "df_pred['result']=y_val"
   ]
  },
  {
   "cell_type": "code",
   "execution_count": 24,
   "metadata": {},
   "outputs": [
    {
     "data": {
      "text/plain": [
       "array([58.])"
      ]
     },
     "execution_count": 24,
     "metadata": {},
     "output_type": "execute_result"
    }
   ],
   "source": [
    "##examine how many postive events in the testset\n",
    "sum(y_val)\n"
   ]
  },
  {
   "cell_type": "code",
   "execution_count": 25,
   "metadata": {},
   "outputs": [
    {
     "data": {
      "image/png": "[encoded data removed]",
      "text/plain": [
       "<Figure size 432x288 with 1 Axes>"
      ]
     },
     "metadata": {
      "needs_background": "light"
     },
     "output_type": "display_data"
    }
   ],
   "source": [
    "import numpy as np\n",
    "import pandas as pd\n",
    "import seaborn as sns\n",
    "import matplotlib.pyplot as plt\n",
    "from scipy import stats\n",
    "sns.distplot(df_pred['pred'][np.where(df_pred['result']==1)[0]]);\n",
    "sns.distplot(df_pred['pred'][np.where(df_pred['result']==0)[0]]);\n",
    "plt.legend(labels=['true binding','true non-binding'])\n",
    "\n",
    "plt.show()"
   ]
  },
  {
   "cell_type": "code",
   "execution_count": 26,
   "metadata": {},
   "outputs": [
    {
     "data": {
      "image/png": "[encoded data removed]",
      "text/plain": [
       "<Figure size 432x288 with 1 Axes>"
      ]
     },
     "metadata": {
      "needs_background": "light"
     },
     "output_type": "display_data"
    }
   ],
   "source": [
    "from sklearn.metrics import roc_curve, auc\n",
    "from sklearn.metrics import roc_auc_score\n",
    "fpr, tpr, thresholds= roc_curve(df_pred['result'],df_pred['pred'])\n",
    "roc_auc = auc(fpr, tpr)\n",
    "plt.plot(fpr, tpr, color='darkorange',\n",
    "          label='ROC curve (area = %0.2f)' % roc_auc)\n",
    "plt.plot([0, 1], [0, 1], color='navy', linestyle='--')\n",
    "plt.xlim([0.0, 1.0])\n",
    "plt.ylim([0.0, 1.05])\n",
    "plt.xlabel('False Positive Rate')\n",
    "plt.ylabel('True Positive Rate')\n",
    "plt.title('Receiver operating characteristic example')\n",
    "plt.legend(loc=\"lower right\")\n",
    "plt.show()"
   ]
  },
  {
   "cell_type": "code",
   "execution_count": 27,
   "metadata": {},
   "outputs": [],
   "source": [
    "#optimal_threshold=0.069128364\n",
    "binary_pred=df_pred['pred'].copy()\n",
    "binary_pred[np.where(binary_pred<=optimal_threshold)[0]]=0\n",
    "binary_pred[np.where(binary_pred>optimal_threshold)[0]]=1"
   ]
  },
  {
   "cell_type": "code",
   "execution_count": 28,
   "metadata": {},
   "outputs": [
    {
     "name": "stdout",
     "output_type": "stream",
     "text": [
      "Error rate  :  0.1180073499387505\n",
      "Accuracy  :  0.8819926500612495\n",
      "Sensitivity  :  0.8793103448275862\n",
      "Specificity  :  0.8819979543129901\n",
      "False positive rate  :  0.1180020456870099\n"
     ]
    }
   ],
   "source": [
    "from sklearn.metrics import confusion_matrix\n",
    "tn, fp, fn, tp = confusion_matrix(df_pred['result'], binary_pred).ravel()\n",
    "# Error rate : \n",
    "err_rate = (fp + fn) / (tp + tn + fn + fp)\n",
    "print(\"Error rate  : \", err_rate)\n",
    "# Accuracy : \n",
    "acc_ = (tp + tn) / (tp + tn + fn + fp)\n",
    "print(\"Accuracy  : \", acc_)\n",
    "# Sensitivity : \n",
    "sens_ = tp / (tp + fn)\n",
    "print(\"Sensitivity  : \", sens_)\n",
    "# Specificity \n",
    "sp_ = tn / (tn + fp)\n",
    "print(\"Specificity  : \", sp_)\n",
    "# False positive rate (FPR)\n",
    "FPR = fp / (tn + fp)\n",
    "print(\"False positive rate  : \", FPR)"
   ]
  },
  {
   "cell_type": "code",
   "execution_count": 29,
   "metadata": {},
   "outputs": [
    {
     "name": "stdout",
     "output_type": "stream",
     "text": [
      "positive binding percentage: 0.00193806949223033\n",
      "positive binding percentage within events predicted as positive: 0.014521640091116172\n"
     ]
    }
   ],
   "source": [
    "print( 'positive binding percentage:',sum(output)/len(output))\n",
    "print('positive binding percentage within events predicted as positive:',tp/(tp+fp))"
   ]
  },
  {
   "cell_type": "code",
   "execution_count": null,
   "metadata": {},
   "outputs": [],
   "source": []
  }
 ],
 "metadata": {
  "kernelspec": {
   "display_name": "Python 3",
   "language": "python",
   "name": "python3"
  },
  "language_info": {
   "codemirror_mode": {
    "name": "ipython",
    "version": 3
   },
   "file_extension": ".py",
   "mimetype": "text/x-python",
   "name": "python",
   "nbconvert_exporter": "python",
   "pygments_lexer": "ipython3",
   "version": "3.7.7"
  }
 },
 "nbformat": 4,
 "nbformat_minor": 2
}
